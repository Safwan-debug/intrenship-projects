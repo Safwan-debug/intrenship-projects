{
  "nbformat": 4,
  "nbformat_minor": 0,
  "metadata": {
    "colab": {
      "name": "world happiness.ipynb",
      "provenance": [],
      "collapsed_sections": [],
      "toc_visible": true
    },
    "kernelspec": {
      "name": "python3",
      "display_name": "Python 3"
    },
    "language_info": {
      "name": "python"
    }
  },
  "cells": [
    {
      "cell_type": "code",
      "metadata": {
        "id": "oBpH-A06hiHM"
      },
      "source": [
        "import pandas as pd\n",
        "import numpy as np\n",
        "import matplotlib.pyplot as plt\n",
        "import seaborn as sns\n"
      ],
      "execution_count": null,
      "outputs": []
    },
    {
      "cell_type": "code",
      "metadata": {
        "colab": {
          "base_uri": "https://localhost:8080/",
          "height": 779
        },
        "id": "k9Hgd4MtjSdM",
        "outputId": "50ee7e43-2a3c-4dfe-bff9-98840a6190f2"
      },
      "source": [
        "df=pd.read_csv('/content/world happineness execl.csv')\n",
        "df"
      ],
      "execution_count": null,
      "outputs": [
        {
          "output_type": "execute_result",
          "data": {
            "text/html": [
              "<div>\n",
              "<style scoped>\n",
              "    .dataframe tbody tr th:only-of-type {\n",
              "        vertical-align: middle;\n",
              "    }\n",
              "\n",
              "    .dataframe tbody tr th {\n",
              "        vertical-align: top;\n",
              "    }\n",
              "\n",
              "    .dataframe thead th {\n",
              "        text-align: right;\n",
              "    }\n",
              "</style>\n",
              "<table border=\"1\" class=\"dataframe\">\n",
              "  <thead>\n",
              "    <tr style=\"text-align: right;\">\n",
              "      <th></th>\n",
              "      <th>Country</th>\n",
              "      <th>Region</th>\n",
              "      <th>Happiness Rank</th>\n",
              "      <th>Happiness Score</th>\n",
              "      <th>Standard Error</th>\n",
              "      <th>Economy (GDP per Capita)</th>\n",
              "      <th>Family</th>\n",
              "      <th>Health (Life Expectancy)</th>\n",
              "      <th>Freedom</th>\n",
              "      <th>Trust (Government Corruption)</th>\n",
              "      <th>Generosity</th>\n",
              "      <th>Dystopia Residual</th>\n",
              "    </tr>\n",
              "  </thead>\n",
              "  <tbody>\n",
              "    <tr>\n",
              "      <th>0</th>\n",
              "      <td>Switzerland</td>\n",
              "      <td>Western Europe</td>\n",
              "      <td>1</td>\n",
              "      <td>7.587</td>\n",
              "      <td>0.03411</td>\n",
              "      <td>1.39651</td>\n",
              "      <td>1.34951</td>\n",
              "      <td>0.94143</td>\n",
              "      <td>0.66557</td>\n",
              "      <td>0.41978</td>\n",
              "      <td>0.29678</td>\n",
              "      <td>2.51738</td>\n",
              "    </tr>\n",
              "    <tr>\n",
              "      <th>1</th>\n",
              "      <td>Iceland</td>\n",
              "      <td>Western Europe</td>\n",
              "      <td>2</td>\n",
              "      <td>7.561</td>\n",
              "      <td>0.04884</td>\n",
              "      <td>1.30232</td>\n",
              "      <td>1.40223</td>\n",
              "      <td>0.94784</td>\n",
              "      <td>0.62877</td>\n",
              "      <td>0.14145</td>\n",
              "      <td>0.43630</td>\n",
              "      <td>2.70201</td>\n",
              "    </tr>\n",
              "    <tr>\n",
              "      <th>2</th>\n",
              "      <td>Denmark</td>\n",
              "      <td>Western Europe</td>\n",
              "      <td>3</td>\n",
              "      <td>7.527</td>\n",
              "      <td>0.03328</td>\n",
              "      <td>1.32548</td>\n",
              "      <td>1.36058</td>\n",
              "      <td>0.87464</td>\n",
              "      <td>0.64938</td>\n",
              "      <td>0.48357</td>\n",
              "      <td>0.34139</td>\n",
              "      <td>2.49204</td>\n",
              "    </tr>\n",
              "    <tr>\n",
              "      <th>3</th>\n",
              "      <td>Norway</td>\n",
              "      <td>Western Europe</td>\n",
              "      <td>4</td>\n",
              "      <td>7.522</td>\n",
              "      <td>0.03880</td>\n",
              "      <td>1.45900</td>\n",
              "      <td>1.33095</td>\n",
              "      <td>0.88521</td>\n",
              "      <td>0.66973</td>\n",
              "      <td>0.36503</td>\n",
              "      <td>0.34699</td>\n",
              "      <td>2.46531</td>\n",
              "    </tr>\n",
              "    <tr>\n",
              "      <th>4</th>\n",
              "      <td>Canada</td>\n",
              "      <td>North America</td>\n",
              "      <td>5</td>\n",
              "      <td>7.427</td>\n",
              "      <td>0.03553</td>\n",
              "      <td>1.32629</td>\n",
              "      <td>1.32261</td>\n",
              "      <td>0.90563</td>\n",
              "      <td>0.63297</td>\n",
              "      <td>0.32957</td>\n",
              "      <td>0.45811</td>\n",
              "      <td>2.45176</td>\n",
              "    </tr>\n",
              "    <tr>\n",
              "      <th>...</th>\n",
              "      <td>...</td>\n",
              "      <td>...</td>\n",
              "      <td>...</td>\n",
              "      <td>...</td>\n",
              "      <td>...</td>\n",
              "      <td>...</td>\n",
              "      <td>...</td>\n",
              "      <td>...</td>\n",
              "      <td>...</td>\n",
              "      <td>...</td>\n",
              "      <td>...</td>\n",
              "      <td>...</td>\n",
              "    </tr>\n",
              "    <tr>\n",
              "      <th>153</th>\n",
              "      <td>Rwanda</td>\n",
              "      <td>Sub-Saharan Africa</td>\n",
              "      <td>154</td>\n",
              "      <td>3.465</td>\n",
              "      <td>0.03464</td>\n",
              "      <td>0.22208</td>\n",
              "      <td>0.77370</td>\n",
              "      <td>0.42864</td>\n",
              "      <td>0.59201</td>\n",
              "      <td>0.55191</td>\n",
              "      <td>0.22628</td>\n",
              "      <td>0.67042</td>\n",
              "    </tr>\n",
              "    <tr>\n",
              "      <th>154</th>\n",
              "      <td>Benin</td>\n",
              "      <td>Sub-Saharan Africa</td>\n",
              "      <td>155</td>\n",
              "      <td>3.340</td>\n",
              "      <td>0.03656</td>\n",
              "      <td>0.28665</td>\n",
              "      <td>0.35386</td>\n",
              "      <td>0.31910</td>\n",
              "      <td>0.48450</td>\n",
              "      <td>0.08010</td>\n",
              "      <td>0.18260</td>\n",
              "      <td>1.63328</td>\n",
              "    </tr>\n",
              "    <tr>\n",
              "      <th>155</th>\n",
              "      <td>Syria</td>\n",
              "      <td>Middle East and Northern Africa</td>\n",
              "      <td>156</td>\n",
              "      <td>3.006</td>\n",
              "      <td>0.05015</td>\n",
              "      <td>0.66320</td>\n",
              "      <td>0.47489</td>\n",
              "      <td>0.72193</td>\n",
              "      <td>0.15684</td>\n",
              "      <td>0.18906</td>\n",
              "      <td>0.47179</td>\n",
              "      <td>0.32858</td>\n",
              "    </tr>\n",
              "    <tr>\n",
              "      <th>156</th>\n",
              "      <td>Burundi</td>\n",
              "      <td>Sub-Saharan Africa</td>\n",
              "      <td>157</td>\n",
              "      <td>2.905</td>\n",
              "      <td>0.08658</td>\n",
              "      <td>0.01530</td>\n",
              "      <td>0.41587</td>\n",
              "      <td>0.22396</td>\n",
              "      <td>0.11850</td>\n",
              "      <td>0.10062</td>\n",
              "      <td>0.19727</td>\n",
              "      <td>1.83302</td>\n",
              "    </tr>\n",
              "    <tr>\n",
              "      <th>157</th>\n",
              "      <td>Togo</td>\n",
              "      <td>Sub-Saharan Africa</td>\n",
              "      <td>158</td>\n",
              "      <td>2.839</td>\n",
              "      <td>0.06727</td>\n",
              "      <td>0.20868</td>\n",
              "      <td>0.13995</td>\n",
              "      <td>0.28443</td>\n",
              "      <td>0.36453</td>\n",
              "      <td>0.10731</td>\n",
              "      <td>0.16681</td>\n",
              "      <td>1.56726</td>\n",
              "    </tr>\n",
              "  </tbody>\n",
              "</table>\n",
              "<p>158 rows × 12 columns</p>\n",
              "</div>"
            ],
            "text/plain": [
              "         Country  ... Dystopia Residual\n",
              "0    Switzerland  ...           2.51738\n",
              "1        Iceland  ...           2.70201\n",
              "2        Denmark  ...           2.49204\n",
              "3         Norway  ...           2.46531\n",
              "4         Canada  ...           2.45176\n",
              "..           ...  ...               ...\n",
              "153       Rwanda  ...           0.67042\n",
              "154        Benin  ...           1.63328\n",
              "155        Syria  ...           0.32858\n",
              "156      Burundi  ...           1.83302\n",
              "157         Togo  ...           1.56726\n",
              "\n",
              "[158 rows x 12 columns]"
            ]
          },
          "metadata": {
            "tags": []
          },
          "execution_count": 4
        }
      ]
    },
    {
      "cell_type": "code",
      "metadata": {
        "colab": {
          "base_uri": "https://localhost:8080/",
          "height": 360
        },
        "id": "otLEDpEZj9z3",
        "outputId": "2bb448f4-4379-4bf6-ca4c-42b9009872e9"
      },
      "source": [
        "df.head()"
      ],
      "execution_count": null,
      "outputs": [
        {
          "output_type": "execute_result",
          "data": {
            "text/html": [
              "<div>\n",
              "<style scoped>\n",
              "    .dataframe tbody tr th:only-of-type {\n",
              "        vertical-align: middle;\n",
              "    }\n",
              "\n",
              "    .dataframe tbody tr th {\n",
              "        vertical-align: top;\n",
              "    }\n",
              "\n",
              "    .dataframe thead th {\n",
              "        text-align: right;\n",
              "    }\n",
              "</style>\n",
              "<table border=\"1\" class=\"dataframe\">\n",
              "  <thead>\n",
              "    <tr style=\"text-align: right;\">\n",
              "      <th></th>\n",
              "      <th>Country</th>\n",
              "      <th>Region</th>\n",
              "      <th>Happiness Rank</th>\n",
              "      <th>Happiness Score</th>\n",
              "      <th>Standard Error</th>\n",
              "      <th>Economy (GDP per Capita)</th>\n",
              "      <th>Family</th>\n",
              "      <th>Health (Life Expectancy)</th>\n",
              "      <th>Freedom</th>\n",
              "      <th>Trust (Government Corruption)</th>\n",
              "      <th>Generosity</th>\n",
              "      <th>Dystopia Residual</th>\n",
              "    </tr>\n",
              "  </thead>\n",
              "  <tbody>\n",
              "    <tr>\n",
              "      <th>0</th>\n",
              "      <td>Switzerland</td>\n",
              "      <td>Western Europe</td>\n",
              "      <td>1</td>\n",
              "      <td>7.587</td>\n",
              "      <td>0.03411</td>\n",
              "      <td>1.39651</td>\n",
              "      <td>1.34951</td>\n",
              "      <td>0.94143</td>\n",
              "      <td>0.66557</td>\n",
              "      <td>0.41978</td>\n",
              "      <td>0.29678</td>\n",
              "      <td>2.51738</td>\n",
              "    </tr>\n",
              "    <tr>\n",
              "      <th>1</th>\n",
              "      <td>Iceland</td>\n",
              "      <td>Western Europe</td>\n",
              "      <td>2</td>\n",
              "      <td>7.561</td>\n",
              "      <td>0.04884</td>\n",
              "      <td>1.30232</td>\n",
              "      <td>1.40223</td>\n",
              "      <td>0.94784</td>\n",
              "      <td>0.62877</td>\n",
              "      <td>0.14145</td>\n",
              "      <td>0.43630</td>\n",
              "      <td>2.70201</td>\n",
              "    </tr>\n",
              "    <tr>\n",
              "      <th>2</th>\n",
              "      <td>Denmark</td>\n",
              "      <td>Western Europe</td>\n",
              "      <td>3</td>\n",
              "      <td>7.527</td>\n",
              "      <td>0.03328</td>\n",
              "      <td>1.32548</td>\n",
              "      <td>1.36058</td>\n",
              "      <td>0.87464</td>\n",
              "      <td>0.64938</td>\n",
              "      <td>0.48357</td>\n",
              "      <td>0.34139</td>\n",
              "      <td>2.49204</td>\n",
              "    </tr>\n",
              "    <tr>\n",
              "      <th>3</th>\n",
              "      <td>Norway</td>\n",
              "      <td>Western Europe</td>\n",
              "      <td>4</td>\n",
              "      <td>7.522</td>\n",
              "      <td>0.03880</td>\n",
              "      <td>1.45900</td>\n",
              "      <td>1.33095</td>\n",
              "      <td>0.88521</td>\n",
              "      <td>0.66973</td>\n",
              "      <td>0.36503</td>\n",
              "      <td>0.34699</td>\n",
              "      <td>2.46531</td>\n",
              "    </tr>\n",
              "    <tr>\n",
              "      <th>4</th>\n",
              "      <td>Canada</td>\n",
              "      <td>North America</td>\n",
              "      <td>5</td>\n",
              "      <td>7.427</td>\n",
              "      <td>0.03553</td>\n",
              "      <td>1.32629</td>\n",
              "      <td>1.32261</td>\n",
              "      <td>0.90563</td>\n",
              "      <td>0.63297</td>\n",
              "      <td>0.32957</td>\n",
              "      <td>0.45811</td>\n",
              "      <td>2.45176</td>\n",
              "    </tr>\n",
              "  </tbody>\n",
              "</table>\n",
              "</div>"
            ],
            "text/plain": [
              "       Country          Region  ...  Generosity  Dystopia Residual\n",
              "0  Switzerland  Western Europe  ...     0.29678            2.51738\n",
              "1      Iceland  Western Europe  ...     0.43630            2.70201\n",
              "2      Denmark  Western Europe  ...     0.34139            2.49204\n",
              "3       Norway  Western Europe  ...     0.34699            2.46531\n",
              "4       Canada   North America  ...     0.45811            2.45176\n",
              "\n",
              "[5 rows x 12 columns]"
            ]
          },
          "metadata": {
            "tags": []
          },
          "execution_count": 5
        }
      ]
    },
    {
      "cell_type": "markdown",
      "metadata": {
        "id": "6hiaLq50mSkj"
      },
      "source": [
        "first 5 rows of data"
      ]
    },
    {
      "cell_type": "code",
      "metadata": {
        "colab": {
          "base_uri": "https://localhost:8080/",
          "height": 479
        },
        "id": "lEfcU1YHmBRI",
        "outputId": "02d6af1b-eb5c-459b-a2a2-c41afb2abaa5"
      },
      "source": [
        "df.tail()"
      ],
      "execution_count": null,
      "outputs": [
        {
          "output_type": "execute_result",
          "data": {
            "text/html": [
              "<div>\n",
              "<style scoped>\n",
              "    .dataframe tbody tr th:only-of-type {\n",
              "        vertical-align: middle;\n",
              "    }\n",
              "\n",
              "    .dataframe tbody tr th {\n",
              "        vertical-align: top;\n",
              "    }\n",
              "\n",
              "    .dataframe thead th {\n",
              "        text-align: right;\n",
              "    }\n",
              "</style>\n",
              "<table border=\"1\" class=\"dataframe\">\n",
              "  <thead>\n",
              "    <tr style=\"text-align: right;\">\n",
              "      <th></th>\n",
              "      <th>Country</th>\n",
              "      <th>Region</th>\n",
              "      <th>Happiness Rank</th>\n",
              "      <th>Happiness Score</th>\n",
              "      <th>Standard Error</th>\n",
              "      <th>Economy (GDP per Capita)</th>\n",
              "      <th>Family</th>\n",
              "      <th>Health (Life Expectancy)</th>\n",
              "      <th>Freedom</th>\n",
              "      <th>Trust (Government Corruption)</th>\n",
              "      <th>Generosity</th>\n",
              "      <th>Dystopia Residual</th>\n",
              "    </tr>\n",
              "  </thead>\n",
              "  <tbody>\n",
              "    <tr>\n",
              "      <th>153</th>\n",
              "      <td>Rwanda</td>\n",
              "      <td>Sub-Saharan Africa</td>\n",
              "      <td>154</td>\n",
              "      <td>3.465</td>\n",
              "      <td>0.03464</td>\n",
              "      <td>0.22208</td>\n",
              "      <td>0.77370</td>\n",
              "      <td>0.42864</td>\n",
              "      <td>0.59201</td>\n",
              "      <td>0.55191</td>\n",
              "      <td>0.22628</td>\n",
              "      <td>0.67042</td>\n",
              "    </tr>\n",
              "    <tr>\n",
              "      <th>154</th>\n",
              "      <td>Benin</td>\n",
              "      <td>Sub-Saharan Africa</td>\n",
              "      <td>155</td>\n",
              "      <td>3.340</td>\n",
              "      <td>0.03656</td>\n",
              "      <td>0.28665</td>\n",
              "      <td>0.35386</td>\n",
              "      <td>0.31910</td>\n",
              "      <td>0.48450</td>\n",
              "      <td>0.08010</td>\n",
              "      <td>0.18260</td>\n",
              "      <td>1.63328</td>\n",
              "    </tr>\n",
              "    <tr>\n",
              "      <th>155</th>\n",
              "      <td>Syria</td>\n",
              "      <td>Middle East and Northern Africa</td>\n",
              "      <td>156</td>\n",
              "      <td>3.006</td>\n",
              "      <td>0.05015</td>\n",
              "      <td>0.66320</td>\n",
              "      <td>0.47489</td>\n",
              "      <td>0.72193</td>\n",
              "      <td>0.15684</td>\n",
              "      <td>0.18906</td>\n",
              "      <td>0.47179</td>\n",
              "      <td>0.32858</td>\n",
              "    </tr>\n",
              "    <tr>\n",
              "      <th>156</th>\n",
              "      <td>Burundi</td>\n",
              "      <td>Sub-Saharan Africa</td>\n",
              "      <td>157</td>\n",
              "      <td>2.905</td>\n",
              "      <td>0.08658</td>\n",
              "      <td>0.01530</td>\n",
              "      <td>0.41587</td>\n",
              "      <td>0.22396</td>\n",
              "      <td>0.11850</td>\n",
              "      <td>0.10062</td>\n",
              "      <td>0.19727</td>\n",
              "      <td>1.83302</td>\n",
              "    </tr>\n",
              "    <tr>\n",
              "      <th>157</th>\n",
              "      <td>Togo</td>\n",
              "      <td>Sub-Saharan Africa</td>\n",
              "      <td>158</td>\n",
              "      <td>2.839</td>\n",
              "      <td>0.06727</td>\n",
              "      <td>0.20868</td>\n",
              "      <td>0.13995</td>\n",
              "      <td>0.28443</td>\n",
              "      <td>0.36453</td>\n",
              "      <td>0.10731</td>\n",
              "      <td>0.16681</td>\n",
              "      <td>1.56726</td>\n",
              "    </tr>\n",
              "  </tbody>\n",
              "</table>\n",
              "</div>"
            ],
            "text/plain": [
              "     Country                           Region  ...  Generosity  Dystopia Residual\n",
              "153   Rwanda               Sub-Saharan Africa  ...     0.22628            0.67042\n",
              "154    Benin               Sub-Saharan Africa  ...     0.18260            1.63328\n",
              "155    Syria  Middle East and Northern Africa  ...     0.47179            0.32858\n",
              "156  Burundi               Sub-Saharan Africa  ...     0.19727            1.83302\n",
              "157     Togo               Sub-Saharan Africa  ...     0.16681            1.56726\n",
              "\n",
              "[5 rows x 12 columns]"
            ]
          },
          "metadata": {
            "tags": []
          },
          "execution_count": 6
        }
      ]
    },
    {
      "cell_type": "markdown",
      "metadata": {
        "id": "kWCmMew2mcv9"
      },
      "source": [
        "last 5 rows of data"
      ]
    },
    {
      "cell_type": "code",
      "metadata": {
        "colab": {
          "base_uri": "https://localhost:8080/"
        },
        "id": "MzOZLP5VlKZL",
        "outputId": "8fd238f1-c93f-4cdb-e0ba-679d94e33e2f"
      },
      "source": [
        "df.columns"
      ],
      "execution_count": null,
      "outputs": [
        {
          "output_type": "execute_result",
          "data": {
            "text/plain": [
              "Index(['Country', 'Region', 'Happiness Rank', 'Happiness Score',\n",
              "       'Standard Error', 'Economy (GDP per Capita)', 'Family',\n",
              "       'Health (Life Expectancy)', 'Freedom', 'Trust (Government Corruption)',\n",
              "       'Generosity', 'Dystopia Residual'],\n",
              "      dtype='object')"
            ]
          },
          "metadata": {
            "tags": []
          },
          "execution_count": 7
        }
      ]
    },
    {
      "cell_type": "markdown",
      "metadata": {
        "id": "xC3knHnemgXL"
      },
      "source": [
        "columns which present in data"
      ]
    },
    {
      "cell_type": "code",
      "metadata": {
        "colab": {
          "base_uri": "https://localhost:8080/",
          "height": 351
        },
        "id": "irBzYyp7mI9M",
        "outputId": "40fe56b8-f0fd-499d-ee96-5d0afe12b6a1"
      },
      "source": [
        "df.describe()"
      ],
      "execution_count": null,
      "outputs": [
        {
          "output_type": "execute_result",
          "data": {
            "text/html": [
              "<div>\n",
              "<style scoped>\n",
              "    .dataframe tbody tr th:only-of-type {\n",
              "        vertical-align: middle;\n",
              "    }\n",
              "\n",
              "    .dataframe tbody tr th {\n",
              "        vertical-align: top;\n",
              "    }\n",
              "\n",
              "    .dataframe thead th {\n",
              "        text-align: right;\n",
              "    }\n",
              "</style>\n",
              "<table border=\"1\" class=\"dataframe\">\n",
              "  <thead>\n",
              "    <tr style=\"text-align: right;\">\n",
              "      <th></th>\n",
              "      <th>Happiness Rank</th>\n",
              "      <th>Happiness Score</th>\n",
              "      <th>Standard Error</th>\n",
              "      <th>Economy (GDP per Capita)</th>\n",
              "      <th>Family</th>\n",
              "      <th>Health (Life Expectancy)</th>\n",
              "      <th>Freedom</th>\n",
              "      <th>Trust (Government Corruption)</th>\n",
              "      <th>Generosity</th>\n",
              "      <th>Dystopia Residual</th>\n",
              "    </tr>\n",
              "  </thead>\n",
              "  <tbody>\n",
              "    <tr>\n",
              "      <th>count</th>\n",
              "      <td>158.000000</td>\n",
              "      <td>158.000000</td>\n",
              "      <td>158.000000</td>\n",
              "      <td>158.000000</td>\n",
              "      <td>158.000000</td>\n",
              "      <td>158.000000</td>\n",
              "      <td>158.000000</td>\n",
              "      <td>158.000000</td>\n",
              "      <td>158.000000</td>\n",
              "      <td>158.000000</td>\n",
              "    </tr>\n",
              "    <tr>\n",
              "      <th>mean</th>\n",
              "      <td>79.493671</td>\n",
              "      <td>5.375734</td>\n",
              "      <td>0.047885</td>\n",
              "      <td>0.846137</td>\n",
              "      <td>0.991046</td>\n",
              "      <td>0.630259</td>\n",
              "      <td>0.428615</td>\n",
              "      <td>0.143422</td>\n",
              "      <td>0.237296</td>\n",
              "      <td>2.098977</td>\n",
              "    </tr>\n",
              "    <tr>\n",
              "      <th>std</th>\n",
              "      <td>45.754363</td>\n",
              "      <td>1.145010</td>\n",
              "      <td>0.017146</td>\n",
              "      <td>0.403121</td>\n",
              "      <td>0.272369</td>\n",
              "      <td>0.247078</td>\n",
              "      <td>0.150693</td>\n",
              "      <td>0.120034</td>\n",
              "      <td>0.126685</td>\n",
              "      <td>0.553550</td>\n",
              "    </tr>\n",
              "    <tr>\n",
              "      <th>min</th>\n",
              "      <td>1.000000</td>\n",
              "      <td>2.839000</td>\n",
              "      <td>0.018480</td>\n",
              "      <td>0.000000</td>\n",
              "      <td>0.000000</td>\n",
              "      <td>0.000000</td>\n",
              "      <td>0.000000</td>\n",
              "      <td>0.000000</td>\n",
              "      <td>0.000000</td>\n",
              "      <td>0.328580</td>\n",
              "    </tr>\n",
              "    <tr>\n",
              "      <th>25%</th>\n",
              "      <td>40.250000</td>\n",
              "      <td>4.526000</td>\n",
              "      <td>0.037268</td>\n",
              "      <td>0.545808</td>\n",
              "      <td>0.856823</td>\n",
              "      <td>0.439185</td>\n",
              "      <td>0.328330</td>\n",
              "      <td>0.061675</td>\n",
              "      <td>0.150553</td>\n",
              "      <td>1.759410</td>\n",
              "    </tr>\n",
              "    <tr>\n",
              "      <th>50%</th>\n",
              "      <td>79.500000</td>\n",
              "      <td>5.232500</td>\n",
              "      <td>0.043940</td>\n",
              "      <td>0.910245</td>\n",
              "      <td>1.029510</td>\n",
              "      <td>0.696705</td>\n",
              "      <td>0.435515</td>\n",
              "      <td>0.107220</td>\n",
              "      <td>0.216130</td>\n",
              "      <td>2.095415</td>\n",
              "    </tr>\n",
              "    <tr>\n",
              "      <th>75%</th>\n",
              "      <td>118.750000</td>\n",
              "      <td>6.243750</td>\n",
              "      <td>0.052300</td>\n",
              "      <td>1.158448</td>\n",
              "      <td>1.214405</td>\n",
              "      <td>0.811013</td>\n",
              "      <td>0.549092</td>\n",
              "      <td>0.180255</td>\n",
              "      <td>0.309883</td>\n",
              "      <td>2.462415</td>\n",
              "    </tr>\n",
              "    <tr>\n",
              "      <th>max</th>\n",
              "      <td>158.000000</td>\n",
              "      <td>7.587000</td>\n",
              "      <td>0.136930</td>\n",
              "      <td>1.690420</td>\n",
              "      <td>1.402230</td>\n",
              "      <td>1.025250</td>\n",
              "      <td>0.669730</td>\n",
              "      <td>0.551910</td>\n",
              "      <td>0.795880</td>\n",
              "      <td>3.602140</td>\n",
              "    </tr>\n",
              "  </tbody>\n",
              "</table>\n",
              "</div>"
            ],
            "text/plain": [
              "       Happiness Rank  Happiness Score  ...  Generosity  Dystopia Residual\n",
              "count      158.000000       158.000000  ...  158.000000         158.000000\n",
              "mean        79.493671         5.375734  ...    0.237296           2.098977\n",
              "std         45.754363         1.145010  ...    0.126685           0.553550\n",
              "min          1.000000         2.839000  ...    0.000000           0.328580\n",
              "25%         40.250000         4.526000  ...    0.150553           1.759410\n",
              "50%         79.500000         5.232500  ...    0.216130           2.095415\n",
              "75%        118.750000         6.243750  ...    0.309883           2.462415\n",
              "max        158.000000         7.587000  ...    0.795880           3.602140\n",
              "\n",
              "[8 rows x 10 columns]"
            ]
          },
          "metadata": {
            "tags": []
          },
          "execution_count": 8
        }
      ]
    },
    {
      "cell_type": "markdown",
      "metadata": {
        "id": "RZb_93OsputA"
      },
      "source": [
        "by using describe method we can learn some statistical ingormation about data"
      ]
    },
    {
      "cell_type": "code",
      "metadata": {
        "colab": {
          "base_uri": "https://localhost:8080/"
        },
        "id": "lIQiDqjampFw",
        "outputId": "db8dd650-f7ae-40f7-d7b3-3ae02bc6b926"
      },
      "source": [
        "df.shape"
      ],
      "execution_count": null,
      "outputs": [
        {
          "output_type": "execute_result",
          "data": {
            "text/plain": [
              "(158, 12)"
            ]
          },
          "metadata": {
            "tags": []
          },
          "execution_count": 9
        }
      ]
    },
    {
      "cell_type": "markdown",
      "metadata": {
        "id": "nEQeBekzmy82"
      },
      "source": [
        "there are 158 rows and 12 columns "
      ]
    },
    {
      "cell_type": "code",
      "metadata": {
        "colab": {
          "base_uri": "https://localhost:8080/"
        },
        "id": "KSrLeif8mvjz",
        "outputId": "1f6e2164-d230-4102-aeb4-739381116c09"
      },
      "source": [
        "df.isnull().sum()"
      ],
      "execution_count": null,
      "outputs": [
        {
          "output_type": "execute_result",
          "data": {
            "text/plain": [
              "Country                          0\n",
              "Region                           0\n",
              "Happiness Rank                   0\n",
              "Happiness Score                  0\n",
              "Standard Error                   0\n",
              "Economy (GDP per Capita)         0\n",
              "Family                           0\n",
              "Health (Life Expectancy)         0\n",
              "Freedom                          0\n",
              "Trust (Government Corruption)    0\n",
              "Generosity                       0\n",
              "Dystopia Residual                0\n",
              "dtype: int64"
            ]
          },
          "metadata": {
            "tags": []
          },
          "execution_count": 10
        }
      ]
    },
    {
      "cell_type": "markdown",
      "metadata": {
        "id": "ppFRhVmMnAxd"
      },
      "source": [
        "there is no null values "
      ]
    },
    {
      "cell_type": "code",
      "metadata": {
        "colab": {
          "base_uri": "https://localhost:8080/"
        },
        "id": "ol0Bcsj8oaLe",
        "outputId": "a2dd2260-df78-4689-fcc1-30f608d14740"
      },
      "source": [
        "df.info()"
      ],
      "execution_count": null,
      "outputs": [
        {
          "output_type": "stream",
          "text": [
            "<class 'pandas.core.frame.DataFrame'>\n",
            "RangeIndex: 158 entries, 0 to 157\n",
            "Data columns (total 12 columns):\n",
            " #   Column                         Non-Null Count  Dtype  \n",
            "---  ------                         --------------  -----  \n",
            " 0   Country                        158 non-null    object \n",
            " 1   Region                         158 non-null    object \n",
            " 2   Happiness Rank                 158 non-null    int64  \n",
            " 3   Happiness Score                158 non-null    float64\n",
            " 4   Standard Error                 158 non-null    float64\n",
            " 5   Economy (GDP per Capita)       158 non-null    float64\n",
            " 6   Family                         158 non-null    float64\n",
            " 7   Health (Life Expectancy)       158 non-null    float64\n",
            " 8   Freedom                        158 non-null    float64\n",
            " 9   Trust (Government Corruption)  158 non-null    float64\n",
            " 10  Generosity                     158 non-null    float64\n",
            " 11  Dystopia Residual              158 non-null    float64\n",
            "dtypes: float64(9), int64(1), object(2)\n",
            "memory usage: 14.9+ KB\n"
          ],
          "name": "stdout"
        }
      ]
    },
    {
      "cell_type": "markdown",
      "metadata": {
        "id": "217ynZ2PqYhV"
      },
      "source": [
        "total information about int , object , float"
      ]
    },
    {
      "cell_type": "markdown",
      "metadata": {
        "id": "2hfjRsEVAy_s"
      },
      "source": [
        "#EDA"
      ]
    },
    {
      "cell_type": "code",
      "metadata": {
        "colab": {
          "base_uri": "https://localhost:8080/",
          "height": 755
        },
        "id": "N3UlDP2UA177",
        "outputId": "431545a8-363b-47d9-f9e5-e93dfecfede3"
      },
      "source": [
        "df1=df.Region.value_counts()\n",
        "plt.figure(figsize=(10,10))\n",
        "sns.barplot(x=df1.index,y=df1.values)\n",
        "plt.xlabel('Region')\n",
        "plt.xticks(rotation=90)\n",
        "plt.ylabel('No.of country')\n",
        "plt.show()"
      ],
      "execution_count": null,
      "outputs": [
        {
          "output_type": "display_data",
          "data": {
            "image/png": "[encoded data removed]",
            "text/plain": [
              "<Figure size 720x720 with 1 Axes>"
            ]
          },
          "metadata": {
            "tags": [],
            "needs_background": "light"
          }
        }
      ]
    },
    {
      "cell_type": "markdown",
      "metadata": {
        "id": "YA7MUn7oKxWO"
      },
      "source": [
        "region v/s no of country"
      ]
    },
    {
      "cell_type": "code",
      "metadata": {
        "colab": {
          "base_uri": "https://localhost:8080/",
          "height": 988
        },
        "id": "d_0LixMiI3Ql",
        "outputId": "bb2c497f-16ef-41f9-c5cc-974c82336736"
      },
      "source": [
        "corr_hmap=df.corr()\n",
        "plt.figure(figsize=(15,15))\n",
        "sns.heatmap(corr_hmap,annot=True)\n",
        "plt.show()"
      ],
      "execution_count": null,
      "outputs": [
        {
          "output_type": "display_data",
          "data": {
            "image/png": "[encoded data removed]",
            "text/plain": [
              "<Figure size 1080x1080 with 2 Axes>"
            ]
          },
          "metadata": {
            "tags": [],
            "needs_background": "light"
          }
        }
      ]
    },
    {
      "cell_type": "code",
      "metadata": {
        "id": "Bqc2wBAdLeta"
      },
      "source": [
        "from sklearn.preprocessing import LabelEncoder\n",
        "labelencoder=LabelEncoder()\n",
        "for column in df.columns:\n",
        "  df[column]=labelencoder.fit_transform(df[column])"
      ],
      "execution_count": null,
      "outputs": []
    },
    {
      "cell_type": "markdown",
      "metadata": {
        "id": "D9FPE1ueOdX8"
      },
      "source": [
        "label encoding the data"
      ]
    },
    {
      "cell_type": "code",
      "metadata": {
        "colab": {
          "base_uri": "https://localhost:8080/",
          "height": 275
        },
        "id": "jCFOmo7yN_yG",
        "outputId": "6fe647da-8723-4b94-bb3a-3f30be9d7c65"
      },
      "source": [
        "df.head()"
      ],
      "execution_count": null,
      "outputs": [
        {
          "output_type": "execute_result",
          "data": {
            "text/html": [
              "<div>\n",
              "<style scoped>\n",
              "    .dataframe tbody tr th:only-of-type {\n",
              "        vertical-align: middle;\n",
              "    }\n",
              "\n",
              "    .dataframe tbody tr th {\n",
              "        vertical-align: top;\n",
              "    }\n",
              "\n",
              "    .dataframe thead th {\n",
              "        text-align: right;\n",
              "    }\n",
              "</style>\n",
              "<table border=\"1\" class=\"dataframe\">\n",
              "  <thead>\n",
              "    <tr style=\"text-align: right;\">\n",
              "      <th></th>\n",
              "      <th>Country</th>\n",
              "      <th>Region</th>\n",
              "      <th>Happiness Rank</th>\n",
              "      <th>Happiness Score</th>\n",
              "      <th>Standard Error</th>\n",
              "      <th>Economy (GDP per Capita)</th>\n",
              "      <th>Family</th>\n",
              "      <th>Health (Life Expectancy)</th>\n",
              "      <th>Freedom</th>\n",
              "      <th>Trust (Government Corruption)</th>\n",
              "      <th>Generosity</th>\n",
              "      <th>Dystopia Residual</th>\n",
              "    </tr>\n",
              "  </thead>\n",
              "  <tbody>\n",
              "    <tr>\n",
              "      <th>0</th>\n",
              "      <td>135</td>\n",
              "      <td>9</td>\n",
              "      <td>0</td>\n",
              "      <td>156</td>\n",
              "      <td>19</td>\n",
              "      <td>151</td>\n",
              "      <td>154</td>\n",
              "      <td>148</td>\n",
              "      <td>156</td>\n",
              "      <td>150</td>\n",
              "      <td>115</td>\n",
              "      <td>125</td>\n",
              "    </tr>\n",
              "    <tr>\n",
              "      <th>1</th>\n",
              "      <td>58</td>\n",
              "      <td>9</td>\n",
              "      <td>1</td>\n",
              "      <td>155</td>\n",
              "      <td>100</td>\n",
              "      <td>136</td>\n",
              "      <td>157</td>\n",
              "      <td>150</td>\n",
              "      <td>143</td>\n",
              "      <td>98</td>\n",
              "      <td>144</td>\n",
              "      <td>134</td>\n",
              "    </tr>\n",
              "    <tr>\n",
              "      <th>2</th>\n",
              "      <td>37</td>\n",
              "      <td>9</td>\n",
              "      <td>2</td>\n",
              "      <td>154</td>\n",
              "      <td>16</td>\n",
              "      <td>139</td>\n",
              "      <td>155</td>\n",
              "      <td>128</td>\n",
              "      <td>151</td>\n",
              "      <td>153</td>\n",
              "      <td>129</td>\n",
              "      <td>122</td>\n",
              "    </tr>\n",
              "    <tr>\n",
              "      <th>3</th>\n",
              "      <td>105</td>\n",
              "      <td>9</td>\n",
              "      <td>3</td>\n",
              "      <td>153</td>\n",
              "      <td>50</td>\n",
              "      <td>153</td>\n",
              "      <td>152</td>\n",
              "      <td>132</td>\n",
              "      <td>157</td>\n",
              "      <td>143</td>\n",
              "      <td>132</td>\n",
              "      <td>118</td>\n",
              "    </tr>\n",
              "    <tr>\n",
              "      <th>4</th>\n",
              "      <td>24</td>\n",
              "      <td>5</td>\n",
              "      <td>4</td>\n",
              "      <td>152</td>\n",
              "      <td>26</td>\n",
              "      <td>140</td>\n",
              "      <td>151</td>\n",
              "      <td>140</td>\n",
              "      <td>145</td>\n",
              "      <td>141</td>\n",
              "      <td>145</td>\n",
              "      <td>116</td>\n",
              "    </tr>\n",
              "  </tbody>\n",
              "</table>\n",
              "</div>"
            ],
            "text/plain": [
              "   Country  Region  ...  Generosity  Dystopia Residual\n",
              "0      135       9  ...         115                125\n",
              "1       58       9  ...         144                134\n",
              "2       37       9  ...         129                122\n",
              "3      105       9  ...         132                118\n",
              "4       24       5  ...         145                116\n",
              "\n",
              "[5 rows x 12 columns]"
            ]
          },
          "metadata": {
            "tags": []
          },
          "execution_count": 15
        }
      ]
    },
    {
      "cell_type": "code",
      "metadata": {
        "colab": {
          "base_uri": "https://localhost:8080/",
          "height": 275
        },
        "id": "SaJdjEqEXIxK",
        "outputId": "e5f97322-4ca4-4abb-8b20-d85a2e9dcdb8"
      },
      "source": [
        "df.head()"
      ],
      "execution_count": null,
      "outputs": [
        {
          "output_type": "execute_result",
          "data": {
            "text/html": [
              "<div>\n",
              "<style scoped>\n",
              "    .dataframe tbody tr th:only-of-type {\n",
              "        vertical-align: middle;\n",
              "    }\n",
              "\n",
              "    .dataframe tbody tr th {\n",
              "        vertical-align: top;\n",
              "    }\n",
              "\n",
              "    .dataframe thead th {\n",
              "        text-align: right;\n",
              "    }\n",
              "</style>\n",
              "<table border=\"1\" class=\"dataframe\">\n",
              "  <thead>\n",
              "    <tr style=\"text-align: right;\">\n",
              "      <th></th>\n",
              "      <th>Country</th>\n",
              "      <th>Region</th>\n",
              "      <th>Happiness Rank</th>\n",
              "      <th>Happiness Score</th>\n",
              "      <th>Standard Error</th>\n",
              "      <th>Economy (GDP per Capita)</th>\n",
              "      <th>Family</th>\n",
              "      <th>Health (Life Expectancy)</th>\n",
              "      <th>Freedom</th>\n",
              "      <th>Trust (Government Corruption)</th>\n",
              "      <th>Generosity</th>\n",
              "      <th>Dystopia Residual</th>\n",
              "    </tr>\n",
              "  </thead>\n",
              "  <tbody>\n",
              "    <tr>\n",
              "      <th>0</th>\n",
              "      <td>135</td>\n",
              "      <td>9</td>\n",
              "      <td>0</td>\n",
              "      <td>156</td>\n",
              "      <td>19</td>\n",
              "      <td>151</td>\n",
              "      <td>154</td>\n",
              "      <td>148</td>\n",
              "      <td>156</td>\n",
              "      <td>150</td>\n",
              "      <td>115</td>\n",
              "      <td>125</td>\n",
              "    </tr>\n",
              "    <tr>\n",
              "      <th>1</th>\n",
              "      <td>58</td>\n",
              "      <td>9</td>\n",
              "      <td>1</td>\n",
              "      <td>155</td>\n",
              "      <td>100</td>\n",
              "      <td>136</td>\n",
              "      <td>157</td>\n",
              "      <td>150</td>\n",
              "      <td>143</td>\n",
              "      <td>98</td>\n",
              "      <td>144</td>\n",
              "      <td>134</td>\n",
              "    </tr>\n",
              "    <tr>\n",
              "      <th>2</th>\n",
              "      <td>37</td>\n",
              "      <td>9</td>\n",
              "      <td>2</td>\n",
              "      <td>154</td>\n",
              "      <td>16</td>\n",
              "      <td>139</td>\n",
              "      <td>155</td>\n",
              "      <td>128</td>\n",
              "      <td>151</td>\n",
              "      <td>153</td>\n",
              "      <td>129</td>\n",
              "      <td>122</td>\n",
              "    </tr>\n",
              "    <tr>\n",
              "      <th>3</th>\n",
              "      <td>105</td>\n",
              "      <td>9</td>\n",
              "      <td>3</td>\n",
              "      <td>153</td>\n",
              "      <td>50</td>\n",
              "      <td>153</td>\n",
              "      <td>152</td>\n",
              "      <td>132</td>\n",
              "      <td>157</td>\n",
              "      <td>143</td>\n",
              "      <td>132</td>\n",
              "      <td>118</td>\n",
              "    </tr>\n",
              "    <tr>\n",
              "      <th>4</th>\n",
              "      <td>24</td>\n",
              "      <td>5</td>\n",
              "      <td>4</td>\n",
              "      <td>152</td>\n",
              "      <td>26</td>\n",
              "      <td>140</td>\n",
              "      <td>151</td>\n",
              "      <td>140</td>\n",
              "      <td>145</td>\n",
              "      <td>141</td>\n",
              "      <td>145</td>\n",
              "      <td>116</td>\n",
              "    </tr>\n",
              "  </tbody>\n",
              "</table>\n",
              "</div>"
            ],
            "text/plain": [
              "   Country  Region  ...  Generosity  Dystopia Residual\n",
              "0      135       9  ...         115                125\n",
              "1       58       9  ...         144                134\n",
              "2       37       9  ...         129                122\n",
              "3      105       9  ...         132                118\n",
              "4       24       5  ...         145                116\n",
              "\n",
              "[5 rows x 12 columns]"
            ]
          },
          "metadata": {
            "tags": []
          },
          "execution_count": 16
        }
      ]
    },
    {
      "cell_type": "code",
      "metadata": {
        "colab": {
          "base_uri": "https://localhost:8080/",
          "height": 350
        },
        "id": "KqWYhr6TUq2i",
        "outputId": "4eb16b39-a9e9-484b-a453-ea69b9f25700"
      },
      "source": [
        "sns.countplot(df['Region'])"
      ],
      "execution_count": null,
      "outputs": [
        {
          "output_type": "stream",
          "text": [
            "/usr/local/lib/python3.7/dist-packages/seaborn/_decorators.py:43: FutureWarning: Pass the following variable as a keyword arg: x. From version 0.12, the only valid positional argument will be `data`, and passing other arguments without an explicit keyword will result in an error or misinterpretation.\n",
            "  FutureWarning\n"
          ],
          "name": "stderr"
        },
        {
          "output_type": "execute_result",
          "data": {
            "text/plain": [
              "<matplotlib.axes._subplots.AxesSubplot at 0x7ff585c90d90>"
            ]
          },
          "metadata": {
            "tags": []
          },
          "execution_count": 17
        },
        {
          "output_type": "display_data",
          "data": {
            "image/png": "[encoded data removed]",
            "text/plain": [
              "<Figure size 432x288 with 1 Axes>"
            ]
          },
          "metadata": {
            "tags": [],
            "needs_background": "light"
          }
        }
      ]
    },
    {
      "cell_type": "markdown",
      "metadata": {
        "id": "YByXVOz-Xggn"
      },
      "source": [
        "comparing region v/s count using count plot"
      ]
    },
    {
      "cell_type": "code",
      "metadata": {
        "colab": {
          "base_uri": "https://localhost:8080/",
          "height": 350
        },
        "id": "Abcquw-LW_A8",
        "outputId": "2f5435fb-ac55-499b-e1b3-5e54534b7280"
      },
      "source": [
        "sns.boxplot(df['Region'])"
      ],
      "execution_count": null,
      "outputs": [
        {
          "output_type": "stream",
          "text": [
            "/usr/local/lib/python3.7/dist-packages/seaborn/_decorators.py:43: FutureWarning: Pass the following variable as a keyword arg: x. From version 0.12, the only valid positional argument will be `data`, and passing other arguments without an explicit keyword will result in an error or misinterpretation.\n",
            "  FutureWarning\n"
          ],
          "name": "stderr"
        },
        {
          "output_type": "execute_result",
          "data": {
            "text/plain": [
              "<matplotlib.axes._subplots.AxesSubplot at 0x7ff58dccdf50>"
            ]
          },
          "metadata": {
            "tags": []
          },
          "execution_count": 18
        },
        {
          "output_type": "display_data",
          "data": {
            "image/png": "[encoded data removed]",
            "text/plain": [
              "<Figure size 432x288 with 1 Axes>"
            ]
          },
          "metadata": {
            "tags": [],
            "needs_background": "light"
          }
        }
      ]
    },
    {
      "cell_type": "markdown",
      "metadata": {
        "id": "vrW0uqveYAJW"
      },
      "source": [
        "there is no outler "
      ]
    },
    {
      "cell_type": "code",
      "metadata": {
        "colab": {
          "base_uri": "https://localhost:8080/",
          "height": 458
        },
        "id": "GJwm2bGrX0OE",
        "outputId": "3025ea4a-e00f-406e-c01c-59ea2a942e50"
      },
      "source": [
        "plt.figure(figsize=[10,6])\n",
        "plt.title('comparision between Happiness Rank and Economy (GDP per Capita)' )\n",
        "sns.scatterplot(df['Economy (GDP per Capita)'],df['Happiness Rank'],hue=df['Region']);"
      ],
      "execution_count": null,
      "outputs": [
        {
          "output_type": "stream",
          "text": [
            "/usr/local/lib/python3.7/dist-packages/seaborn/_decorators.py:43: FutureWarning: Pass the following variables as keyword args: x, y. From version 0.12, the only valid positional argument will be `data`, and passing other arguments without an explicit keyword will result in an error or misinterpretation.\n",
            "  FutureWarning\n"
          ],
          "name": "stderr"
        },
        {
          "output_type": "display_data",
          "data": {
            "image/png": "[encoded data removed]",
            "text/plain": [
              "<Figure size 720x432 with 1 Axes>"
            ]
          },
          "metadata": {
            "tags": [],
            "needs_background": "light"
          }
        }
      ]
    },
    {
      "cell_type": "markdown",
      "metadata": {
        "id": "4QzT_UDTaHWT"
      },
      "source": [
        "camparing gdp vs happiness as gdp increases happyness  as increases"
      ]
    },
    {
      "cell_type": "code",
      "metadata": {
        "colab": {
          "base_uri": "https://localhost:8080/",
          "height": 490
        },
        "id": "fN8foq5hcgYV",
        "outputId": "4ba550e9-0322-469b-d45a-8326318abf03"
      },
      "source": [
        "df.rename({'Happiness Score': 'Happiness_Score'},axis=1,inplace=True)\n",
        "df"
      ],
      "execution_count": null,
      "outputs": [
        {
          "output_type": "execute_result",
          "data": {
            "text/html": [
              "<div>\n",
              "<style scoped>\n",
              "    .dataframe tbody tr th:only-of-type {\n",
              "        vertical-align: middle;\n",
              "    }\n",
              "\n",
              "    .dataframe tbody tr th {\n",
              "        vertical-align: top;\n",
              "    }\n",
              "\n",
              "    .dataframe thead th {\n",
              "        text-align: right;\n",
              "    }\n",
              "</style>\n",
              "<table border=\"1\" class=\"dataframe\">\n",
              "  <thead>\n",
              "    <tr style=\"text-align: right;\">\n",
              "      <th></th>\n",
              "      <th>Country</th>\n",
              "      <th>Region</th>\n",
              "      <th>Happiness Rank</th>\n",
              "      <th>Happiness_Score</th>\n",
              "      <th>Standard Error</th>\n",
              "      <th>Economy (GDP per Capita)</th>\n",
              "      <th>Family</th>\n",
              "      <th>Health (Life Expectancy)</th>\n",
              "      <th>Freedom</th>\n",
              "      <th>Trust (Government Corruption)</th>\n",
              "      <th>Generosity</th>\n",
              "      <th>Dystopia Residual</th>\n",
              "    </tr>\n",
              "  </thead>\n",
              "  <tbody>\n",
              "    <tr>\n",
              "      <th>0</th>\n",
              "      <td>135</td>\n",
              "      <td>9</td>\n",
              "      <td>0</td>\n",
              "      <td>156</td>\n",
              "      <td>19</td>\n",
              "      <td>151</td>\n",
              "      <td>154</td>\n",
              "      <td>148</td>\n",
              "      <td>156</td>\n",
              "      <td>150</td>\n",
              "      <td>115</td>\n",
              "      <td>125</td>\n",
              "    </tr>\n",
              "    <tr>\n",
              "      <th>1</th>\n",
              "      <td>58</td>\n",
              "      <td>9</td>\n",
              "      <td>1</td>\n",
              "      <td>155</td>\n",
              "      <td>100</td>\n",
              "      <td>136</td>\n",
              "      <td>157</td>\n",
              "      <td>150</td>\n",
              "      <td>143</td>\n",
              "      <td>98</td>\n",
              "      <td>144</td>\n",
              "      <td>134</td>\n",
              "    </tr>\n",
              "    <tr>\n",
              "      <th>2</th>\n",
              "      <td>37</td>\n",
              "      <td>9</td>\n",
              "      <td>2</td>\n",
              "      <td>154</td>\n",
              "      <td>16</td>\n",
              "      <td>139</td>\n",
              "      <td>155</td>\n",
              "      <td>128</td>\n",
              "      <td>151</td>\n",
              "      <td>153</td>\n",
              "      <td>129</td>\n",
              "      <td>122</td>\n",
              "    </tr>\n",
              "    <tr>\n",
              "      <th>3</th>\n",
              "      <td>105</td>\n",
              "      <td>9</td>\n",
              "      <td>3</td>\n",
              "      <td>153</td>\n",
              "      <td>50</td>\n",
              "      <td>153</td>\n",
              "      <td>152</td>\n",
              "      <td>132</td>\n",
              "      <td>157</td>\n",
              "      <td>143</td>\n",
              "      <td>132</td>\n",
              "      <td>118</td>\n",
              "    </tr>\n",
              "    <tr>\n",
              "      <th>4</th>\n",
              "      <td>24</td>\n",
              "      <td>5</td>\n",
              "      <td>4</td>\n",
              "      <td>152</td>\n",
              "      <td>26</td>\n",
              "      <td>140</td>\n",
              "      <td>151</td>\n",
              "      <td>140</td>\n",
              "      <td>145</td>\n",
              "      <td>141</td>\n",
              "      <td>145</td>\n",
              "      <td>116</td>\n",
              "    </tr>\n",
              "    <tr>\n",
              "      <th>...</th>\n",
              "      <td>...</td>\n",
              "      <td>...</td>\n",
              "      <td>...</td>\n",
              "      <td>...</td>\n",
              "      <td>...</td>\n",
              "      <td>...</td>\n",
              "      <td>...</td>\n",
              "      <td>...</td>\n",
              "      <td>...</td>\n",
              "      <td>...</td>\n",
              "      <td>...</td>\n",
              "      <td>...</td>\n",
              "    </tr>\n",
              "    <tr>\n",
              "      <th>153</th>\n",
              "      <td>118</td>\n",
              "      <td>8</td>\n",
              "      <td>152</td>\n",
              "      <td>4</td>\n",
              "      <td>21</td>\n",
              "      <td>13</td>\n",
              "      <td>29</td>\n",
              "      <td>36</td>\n",
              "      <td>128</td>\n",
              "      <td>156</td>\n",
              "      <td>86</td>\n",
              "      <td>2</td>\n",
              "    </tr>\n",
              "    <tr>\n",
              "      <th>154</th>\n",
              "      <td>13</td>\n",
              "      <td>8</td>\n",
              "      <td>153</td>\n",
              "      <td>3</td>\n",
              "      <td>36</td>\n",
              "      <td>21</td>\n",
              "      <td>3</td>\n",
              "      <td>23</td>\n",
              "      <td>96</td>\n",
              "      <td>56</td>\n",
              "      <td>57</td>\n",
              "      <td>28</td>\n",
              "    </tr>\n",
              "    <tr>\n",
              "      <th>155</th>\n",
              "      <td>136</td>\n",
              "      <td>4</td>\n",
              "      <td>154</td>\n",
              "      <td>2</td>\n",
              "      <td>104</td>\n",
              "      <td>51</td>\n",
              "      <td>11</td>\n",
              "      <td>86</td>\n",
              "      <td>7</td>\n",
              "      <td>121</td>\n",
              "      <td>148</td>\n",
              "      <td>0</td>\n",
              "    </tr>\n",
              "    <tr>\n",
              "      <th>156</th>\n",
              "      <td>21</td>\n",
              "      <td>8</td>\n",
              "      <td>155</td>\n",
              "      <td>1</td>\n",
              "      <td>146</td>\n",
              "      <td>1</td>\n",
              "      <td>8</td>\n",
              "      <td>12</td>\n",
              "      <td>5</td>\n",
              "      <td>73</td>\n",
              "      <td>68</td>\n",
              "      <td>44</td>\n",
              "    </tr>\n",
              "    <tr>\n",
              "      <th>157</th>\n",
              "      <td>141</td>\n",
              "      <td>8</td>\n",
              "      <td>156</td>\n",
              "      <td>0</td>\n",
              "      <td>135</td>\n",
              "      <td>11</td>\n",
              "      <td>1</td>\n",
              "      <td>18</td>\n",
              "      <td>50</td>\n",
              "      <td>79</td>\n",
              "      <td>44</td>\n",
              "      <td>19</td>\n",
              "    </tr>\n",
              "  </tbody>\n",
              "</table>\n",
              "<p>158 rows × 12 columns</p>\n",
              "</div>"
            ],
            "text/plain": [
              "     Country  Region  ...  Generosity  Dystopia Residual\n",
              "0        135       9  ...         115                125\n",
              "1         58       9  ...         144                134\n",
              "2         37       9  ...         129                122\n",
              "3        105       9  ...         132                118\n",
              "4         24       5  ...         145                116\n",
              "..       ...     ...  ...         ...                ...\n",
              "153      118       8  ...          86                  2\n",
              "154       13       8  ...          57                 28\n",
              "155      136       4  ...         148                  0\n",
              "156       21       8  ...          68                 44\n",
              "157      141       8  ...          44                 19\n",
              "\n",
              "[158 rows x 12 columns]"
            ]
          },
          "metadata": {
            "tags": []
          },
          "execution_count": 20
        }
      ]
    },
    {
      "cell_type": "code",
      "metadata": {
        "id": "WuOj7TQ0eNSX"
      },
      "source": [
        "x=df.drop('Happiness_Score',axis=1)\n",
        "y=df.Happiness_Score\n"
      ],
      "execution_count": null,
      "outputs": []
    },
    {
      "cell_type": "code",
      "metadata": {
        "colab": {
          "base_uri": "https://localhost:8080/"
        },
        "id": "5y8q_ExppRSr",
        "outputId": "e3904eaf-5ab2-48f3-99c2-42b1728f7e8c"
      },
      "source": [
        "from sklearn.model_selection import train_test_split,cross_val_score\n",
        "x_train,x_test,y_train,y_test=train_test_split(x,y,test_size=0.2,random_state=20)\n",
        "print(x_train.shape,x_test.shape)\n",
        "print(y_train.shape,y_test.shape)"
      ],
      "execution_count": null,
      "outputs": [
        {
          "output_type": "stream",
          "text": [
            "(126, 11) (32, 11)\n",
            "(126,) (32,)\n"
          ],
          "name": "stdout"
        }
      ]
    },
    {
      "cell_type": "code",
      "metadata": {
        "id": "WuvtQnYBqeQg"
      },
      "source": [
        "from sklearn.metrics import mean_absolute_error\n",
        "from sklearn.metrics import mean_squared_error\n",
        "from sklearn.metrics import r2_score\n",
        "from sklearn.model_selection import train_test_split\n",
        "def maxr2_score(regr,x,y):\n",
        "    max_r_score=0\n",
        "    for r_state in range(40,101):\n",
        "        x_train,x_test,y_train,y_test=train_test_split(x,y,random_state=r_state,test_size=0.30)\n",
        "        regr.fit(x_train,y_train)\n",
        "        y_pred=regr.predict(x_test)\n",
        "        r2_scr=r2_score(y_test,y_pred)\n",
        "        print(\"r2 score corrospoding to \",r_state,\"is\",r2_scr)\n",
        "        if r2_scr>max_r_score:\n",
        "            max_r_score=r2_scr\n",
        "            final_r_state=r_state\n",
        "    print(\"max r2 score to \",final_r_state,\"is\",max_r_score)\n",
        "    return final_r_state"
      ],
      "execution_count": null,
      "outputs": []
    },
    {
      "cell_type": "code",
      "metadata": {
        "colab": {
          "base_uri": "https://localhost:8080/"
        },
        "id": "DkWi6NmHqymO",
        "outputId": "7cbcdd8e-3929-49c2-a8f5-cf61b909bc08"
      },
      "source": [
        "from sklearn.linear_model import LinearRegression\n",
        "lreg=LinearRegression()\n",
        "r_state=maxr2_score(lreg,x,y)"
      ],
      "execution_count": null,
      "outputs": [
        {
          "output_type": "stream",
          "text": [
            "r2 score corrospoding to  40 is 1.0\n",
            "r2 score corrospoding to  41 is 1.0\n",
            "r2 score corrospoding to  42 is 1.0\n",
            "r2 score corrospoding to  43 is 1.0\n",
            "r2 score corrospoding to  44 is 1.0\n",
            "r2 score corrospoding to  45 is 1.0\n",
            "r2 score corrospoding to  46 is 1.0\n",
            "r2 score corrospoding to  47 is 1.0\n",
            "r2 score corrospoding to  48 is 1.0\n",
            "r2 score corrospoding to  49 is 1.0\n",
            "r2 score corrospoding to  50 is 1.0\n",
            "r2 score corrospoding to  51 is 1.0\n",
            "r2 score corrospoding to  52 is 1.0\n",
            "r2 score corrospoding to  53 is 1.0\n",
            "r2 score corrospoding to  54 is 1.0\n",
            "r2 score corrospoding to  55 is 1.0\n",
            "r2 score corrospoding to  56 is 1.0\n",
            "r2 score corrospoding to  57 is 1.0\n",
            "r2 score corrospoding to  58 is 1.0\n",
            "r2 score corrospoding to  59 is 1.0\n",
            "r2 score corrospoding to  60 is 1.0\n",
            "r2 score corrospoding to  61 is 1.0\n",
            "r2 score corrospoding to  62 is 1.0\n",
            "r2 score corrospoding to  63 is 1.0\n",
            "r2 score corrospoding to  64 is 1.0\n",
            "r2 score corrospoding to  65 is 1.0\n",
            "r2 score corrospoding to  66 is 1.0\n",
            "r2 score corrospoding to  67 is 1.0\n",
            "r2 score corrospoding to  68 is 1.0\n",
            "r2 score corrospoding to  69 is 1.0\n",
            "r2 score corrospoding to  70 is 1.0\n",
            "r2 score corrospoding to  71 is 1.0\n",
            "r2 score corrospoding to  72 is 1.0\n",
            "r2 score corrospoding to  73 is 1.0\n",
            "r2 score corrospoding to  74 is 1.0\n",
            "r2 score corrospoding to  75 is 1.0\n",
            "r2 score corrospoding to  76 is 1.0\n",
            "r2 score corrospoding to  77 is 1.0\n",
            "r2 score corrospoding to  78 is 1.0\n",
            "r2 score corrospoding to  79 is 1.0\n",
            "r2 score corrospoding to  80 is 1.0\n",
            "r2 score corrospoding to  81 is 1.0\n",
            "r2 score corrospoding to  82 is 1.0\n",
            "r2 score corrospoding to  83 is 1.0\n",
            "r2 score corrospoding to  84 is 1.0\n",
            "r2 score corrospoding to  85 is 1.0\n",
            "r2 score corrospoding to  86 is 1.0\n",
            "r2 score corrospoding to  87 is 1.0\n",
            "r2 score corrospoding to  88 is 1.0\n",
            "r2 score corrospoding to  89 is 1.0\n",
            "r2 score corrospoding to  90 is 1.0\n",
            "r2 score corrospoding to  91 is 1.0\n",
            "r2 score corrospoding to  92 is 1.0\n",
            "r2 score corrospoding to  93 is 1.0\n",
            "r2 score corrospoding to  94 is 1.0\n",
            "r2 score corrospoding to  95 is 1.0\n",
            "r2 score corrospoding to  96 is 1.0\n",
            "r2 score corrospoding to  97 is 1.0\n",
            "r2 score corrospoding to  98 is 1.0\n",
            "r2 score corrospoding to  99 is 1.0\n",
            "r2 score corrospoding to  100 is 1.0\n",
            "max r2 score to  40 is 1.0\n"
          ],
          "name": "stdout"
        }
      ]
    },
    {
      "cell_type": "markdown",
      "metadata": {
        "id": "Gzy4OytVrEWO"
      },
      "source": [
        "maxmium r2 score to 40 is 1.0"
      ]
    },
    {
      "cell_type": "code",
      "metadata": {
        "colab": {
          "base_uri": "https://localhost:8080/"
        },
        "id": "bk58TDVsq7aV",
        "outputId": "12e8a826-8463-4ffc-ac13-ea3411b8ecff"
      },
      "source": [
        "from sklearn.model_selection import cross_val_score\n",
        "from sklearn.linear_model import LinearRegression\n",
        "cross_val_score(LinearRegression(),x,y,cv=5,scoring='neg_mean_absolute_error').mean()"
      ],
      "execution_count": null,
      "outputs": [
        {
          "output_type": "execute_result",
          "data": {
            "text/plain": [
              "-4.2661215062370537e-14"
            ]
          },
          "metadata": {
            "tags": []
          },
          "execution_count": 25
        }
      ]
    },
    {
      "cell_type": "code",
      "metadata": {
        "id": "MeUqB2JzrT64"
      },
      "source": [
        "x_train,x_test,y_train,y_test=train_test_split(x,y,random_state =62,test_size=0.33)\n",
        "lreg=LinearRegression()\n",
        "lreg.fit(x_train,y_train)\n",
        "y_pred=lreg.predict(x_test)"
      ],
      "execution_count": null,
      "outputs": []
    },
    {
      "cell_type": "code",
      "metadata": {
        "colab": {
          "base_uri": "https://localhost:8080/"
        },
        "id": "1PogbTcorpMp",
        "outputId": "0b57ea15-ef2b-4450-caea-be3d1b2b6715"
      },
      "source": [
        "from sklearn.metrics import r2_score\n",
        "from sklearn.metrics import mean_squared_error\n",
        "print(\"r2 score is :\",r2_score(y_test,y_pred))\n",
        "print('RMSE is :',np.sqrt(mean_squared_error(y_test,y_pred)))"
      ],
      "execution_count": null,
      "outputs": [
        {
          "output_type": "stream",
          "text": [
            "r2 score is : 1.0\n",
            "RMSE is : 3.098721425850063e-14\n"
          ],
          "name": "stdout"
        }
      ]
    },
    {
      "cell_type": "code",
      "metadata": {
        "id": "YMTz7hikrxLE"
      },
      "source": [
        "import pickle"
      ],
      "execution_count": null,
      "outputs": []
    },
    {
      "cell_type": "code",
      "metadata": {
        "colab": {
          "base_uri": "https://localhost:8080/"
        },
        "id": "1-tzWu1yr5Jx",
        "outputId": "cc7cbd36-6c2d-4f52-9c3a-0524c069d255"
      },
      "source": [
        "project2_model = pickle.dumps(lreg) \n",
        "lreg_from_pickle = pickle.loads(project2_model) \n",
        "lreg_from_pickle.predict(x_test)"
      ],
      "execution_count": null,
      "outputs": [
        {
          "output_type": "execute_result",
          "data": {
            "text/plain": [
              "array([127.,  26.,  34.,  38.,  75.,  50.,  94.,  91., 102.,  40.,  24.,\n",
              "        65.,  86., 108., 117.,  32.,  23.,  45.,  80., 129., 104.,   5.,\n",
              "        27., 100.,  39., 124., 109., 110., 103., 118.,  96., 116.,   1.,\n",
              "        66., 115., 147., 149.,  36., 119.,  73., 123.,  30.,  95., 142.,\n",
              "        43., 120.,  72.,  61.,   0.,  12., 140.,   8.,  41.])"
            ]
          },
          "metadata": {
            "tags": []
          },
          "execution_count": 29
        }
      ]
    },
    {
      "cell_type": "code",
      "metadata": {
        "id": "M6qpecj6sFNf"
      },
      "source": [
        ""
      ],
      "execution_count": null,
      "outputs": []
    }
  ]
}