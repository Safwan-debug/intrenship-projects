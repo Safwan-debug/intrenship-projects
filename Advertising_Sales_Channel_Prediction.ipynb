{
  "nbformat": 4,
  "nbformat_minor": 0,
  "metadata": {
    "colab": {
      "name": "Advertising Sales Channel Prediction",
      "provenance": [],
      "collapsed_sections": []
    },
    "kernelspec": {
      "name": "python3",
      "display_name": "Python 3"
    },
    "language_info": {
      "name": "python"
    }
  },
  "cells": [
    {
      "cell_type": "code",
      "metadata": {
        "id": "C2FotqvSsAcY"
      },
      "source": [
        "import pandas as pd\n",
        "import numpy as np\n",
        "import seaborn as sns\n",
        "import matplotlib.pyplot as plt\n",
        "import warnings\n",
        "warnings.filterwarnings('ignore')\n"
      ],
      "execution_count": 1,
      "outputs": []
    },
    {
      "cell_type": "code",
      "metadata": {
        "colab": {
          "base_uri": "https://localhost:8080/",
          "height": 419
        },
        "id": "gFFrg8rWs8k6",
        "outputId": "b683af08-f9d9-46d5-c0b2-1f8637492ff2"
      },
      "source": [
        "df=pd.read_csv('/content/Advertising Sales Channel Prediction.csv')\n",
        "df"
      ],
      "execution_count": 2,
      "outputs": [
        {
          "output_type": "execute_result",
          "data": {
            "text/html": [
              "<div>\n",
              "<style scoped>\n",
              "    .dataframe tbody tr th:only-of-type {\n",
              "        vertical-align: middle;\n",
              "    }\n",
              "\n",
              "    .dataframe tbody tr th {\n",
              "        vertical-align: top;\n",
              "    }\n",
              "\n",
              "    .dataframe thead th {\n",
              "        text-align: right;\n",
              "    }\n",
              "</style>\n",
              "<table border=\"1\" class=\"dataframe\">\n",
              "  <thead>\n",
              "    <tr style=\"text-align: right;\">\n",
              "      <th></th>\n",
              "      <th>Unnamed: 0</th>\n",
              "      <th>TV</th>\n",
              "      <th>radio</th>\n",
              "      <th>newspaper</th>\n",
              "      <th>sales</th>\n",
              "    </tr>\n",
              "  </thead>\n",
              "  <tbody>\n",
              "    <tr>\n",
              "      <th>0</th>\n",
              "      <td>1</td>\n",
              "      <td>230.1</td>\n",
              "      <td>37.8</td>\n",
              "      <td>69.2</td>\n",
              "      <td>22.1</td>\n",
              "    </tr>\n",
              "    <tr>\n",
              "      <th>1</th>\n",
              "      <td>2</td>\n",
              "      <td>44.5</td>\n",
              "      <td>39.3</td>\n",
              "      <td>45.1</td>\n",
              "      <td>10.4</td>\n",
              "    </tr>\n",
              "    <tr>\n",
              "      <th>2</th>\n",
              "      <td>3</td>\n",
              "      <td>17.2</td>\n",
              "      <td>45.9</td>\n",
              "      <td>69.3</td>\n",
              "      <td>9.3</td>\n",
              "    </tr>\n",
              "    <tr>\n",
              "      <th>3</th>\n",
              "      <td>4</td>\n",
              "      <td>151.5</td>\n",
              "      <td>41.3</td>\n",
              "      <td>58.5</td>\n",
              "      <td>18.5</td>\n",
              "    </tr>\n",
              "    <tr>\n",
              "      <th>4</th>\n",
              "      <td>5</td>\n",
              "      <td>180.8</td>\n",
              "      <td>10.8</td>\n",
              "      <td>58.4</td>\n",
              "      <td>12.9</td>\n",
              "    </tr>\n",
              "    <tr>\n",
              "      <th>...</th>\n",
              "      <td>...</td>\n",
              "      <td>...</td>\n",
              "      <td>...</td>\n",
              "      <td>...</td>\n",
              "      <td>...</td>\n",
              "    </tr>\n",
              "    <tr>\n",
              "      <th>195</th>\n",
              "      <td>196</td>\n",
              "      <td>38.2</td>\n",
              "      <td>3.7</td>\n",
              "      <td>13.8</td>\n",
              "      <td>7.6</td>\n",
              "    </tr>\n",
              "    <tr>\n",
              "      <th>196</th>\n",
              "      <td>197</td>\n",
              "      <td>94.2</td>\n",
              "      <td>4.9</td>\n",
              "      <td>8.1</td>\n",
              "      <td>9.7</td>\n",
              "    </tr>\n",
              "    <tr>\n",
              "      <th>197</th>\n",
              "      <td>198</td>\n",
              "      <td>177.0</td>\n",
              "      <td>9.3</td>\n",
              "      <td>6.4</td>\n",
              "      <td>12.8</td>\n",
              "    </tr>\n",
              "    <tr>\n",
              "      <th>198</th>\n",
              "      <td>199</td>\n",
              "      <td>283.6</td>\n",
              "      <td>42.0</td>\n",
              "      <td>66.2</td>\n",
              "      <td>25.5</td>\n",
              "    </tr>\n",
              "    <tr>\n",
              "      <th>199</th>\n",
              "      <td>200</td>\n",
              "      <td>232.1</td>\n",
              "      <td>8.6</td>\n",
              "      <td>8.7</td>\n",
              "      <td>13.4</td>\n",
              "    </tr>\n",
              "  </tbody>\n",
              "</table>\n",
              "<p>200 rows × 5 columns</p>\n",
              "</div>"
            ],
            "text/plain": [
              "     Unnamed: 0     TV  radio  newspaper  sales\n",
              "0             1  230.1   37.8       69.2   22.1\n",
              "1             2   44.5   39.3       45.1   10.4\n",
              "2             3   17.2   45.9       69.3    9.3\n",
              "3             4  151.5   41.3       58.5   18.5\n",
              "4             5  180.8   10.8       58.4   12.9\n",
              "..          ...    ...    ...        ...    ...\n",
              "195         196   38.2    3.7       13.8    7.6\n",
              "196         197   94.2    4.9        8.1    9.7\n",
              "197         198  177.0    9.3        6.4   12.8\n",
              "198         199  283.6   42.0       66.2   25.5\n",
              "199         200  232.1    8.6        8.7   13.4\n",
              "\n",
              "[200 rows x 5 columns]"
            ]
          },
          "metadata": {
            "tags": []
          },
          "execution_count": 2
        }
      ]
    },
    {
      "cell_type": "code",
      "metadata": {
        "colab": {
          "base_uri": "https://localhost:8080/",
          "height": 204
        },
        "id": "qbZWj2PwtDy3",
        "outputId": "292c48aa-7cdc-4e43-ca75-7fe6583fd2d7"
      },
      "source": [
        "df.head()"
      ],
      "execution_count": 3,
      "outputs": [
        {
          "output_type": "execute_result",
          "data": {
            "text/html": [
              "<div>\n",
              "<style scoped>\n",
              "    .dataframe tbody tr th:only-of-type {\n",
              "        vertical-align: middle;\n",
              "    }\n",
              "\n",
              "    .dataframe tbody tr th {\n",
              "        vertical-align: top;\n",
              "    }\n",
              "\n",
              "    .dataframe thead th {\n",
              "        text-align: right;\n",
              "    }\n",
              "</style>\n",
              "<table border=\"1\" class=\"dataframe\">\n",
              "  <thead>\n",
              "    <tr style=\"text-align: right;\">\n",
              "      <th></th>\n",
              "      <th>Unnamed: 0</th>\n",
              "      <th>TV</th>\n",
              "      <th>radio</th>\n",
              "      <th>newspaper</th>\n",
              "      <th>sales</th>\n",
              "    </tr>\n",
              "  </thead>\n",
              "  <tbody>\n",
              "    <tr>\n",
              "      <th>0</th>\n",
              "      <td>1</td>\n",
              "      <td>230.1</td>\n",
              "      <td>37.8</td>\n",
              "      <td>69.2</td>\n",
              "      <td>22.1</td>\n",
              "    </tr>\n",
              "    <tr>\n",
              "      <th>1</th>\n",
              "      <td>2</td>\n",
              "      <td>44.5</td>\n",
              "      <td>39.3</td>\n",
              "      <td>45.1</td>\n",
              "      <td>10.4</td>\n",
              "    </tr>\n",
              "    <tr>\n",
              "      <th>2</th>\n",
              "      <td>3</td>\n",
              "      <td>17.2</td>\n",
              "      <td>45.9</td>\n",
              "      <td>69.3</td>\n",
              "      <td>9.3</td>\n",
              "    </tr>\n",
              "    <tr>\n",
              "      <th>3</th>\n",
              "      <td>4</td>\n",
              "      <td>151.5</td>\n",
              "      <td>41.3</td>\n",
              "      <td>58.5</td>\n",
              "      <td>18.5</td>\n",
              "    </tr>\n",
              "    <tr>\n",
              "      <th>4</th>\n",
              "      <td>5</td>\n",
              "      <td>180.8</td>\n",
              "      <td>10.8</td>\n",
              "      <td>58.4</td>\n",
              "      <td>12.9</td>\n",
              "    </tr>\n",
              "  </tbody>\n",
              "</table>\n",
              "</div>"
            ],
            "text/plain": [
              "   Unnamed: 0     TV  radio  newspaper  sales\n",
              "0           1  230.1   37.8       69.2   22.1\n",
              "1           2   44.5   39.3       45.1   10.4\n",
              "2           3   17.2   45.9       69.3    9.3\n",
              "3           4  151.5   41.3       58.5   18.5\n",
              "4           5  180.8   10.8       58.4   12.9"
            ]
          },
          "metadata": {
            "tags": []
          },
          "execution_count": 3
        }
      ]
    },
    {
      "cell_type": "markdown",
      "metadata": {
        "id": "nVilL2yZ2FQm"
      },
      "source": [
        "The first 5 rows "
      ]
    },
    {
      "cell_type": "code",
      "metadata": {
        "colab": {
          "base_uri": "https://localhost:8080/",
          "height": 204
        },
        "id": "Mo-k2rMBtGxt",
        "outputId": "ee6cdd13-97c3-4ff2-fd0d-63b52fa9098b"
      },
      "source": [
        "df.tail()"
      ],
      "execution_count": 4,
      "outputs": [
        {
          "output_type": "execute_result",
          "data": {
            "text/html": [
              "<div>\n",
              "<style scoped>\n",
              "    .dataframe tbody tr th:only-of-type {\n",
              "        vertical-align: middle;\n",
              "    }\n",
              "\n",
              "    .dataframe tbody tr th {\n",
              "        vertical-align: top;\n",
              "    }\n",
              "\n",
              "    .dataframe thead th {\n",
              "        text-align: right;\n",
              "    }\n",
              "</style>\n",
              "<table border=\"1\" class=\"dataframe\">\n",
              "  <thead>\n",
              "    <tr style=\"text-align: right;\">\n",
              "      <th></th>\n",
              "      <th>Unnamed: 0</th>\n",
              "      <th>TV</th>\n",
              "      <th>radio</th>\n",
              "      <th>newspaper</th>\n",
              "      <th>sales</th>\n",
              "    </tr>\n",
              "  </thead>\n",
              "  <tbody>\n",
              "    <tr>\n",
              "      <th>195</th>\n",
              "      <td>196</td>\n",
              "      <td>38.2</td>\n",
              "      <td>3.7</td>\n",
              "      <td>13.8</td>\n",
              "      <td>7.6</td>\n",
              "    </tr>\n",
              "    <tr>\n",
              "      <th>196</th>\n",
              "      <td>197</td>\n",
              "      <td>94.2</td>\n",
              "      <td>4.9</td>\n",
              "      <td>8.1</td>\n",
              "      <td>9.7</td>\n",
              "    </tr>\n",
              "    <tr>\n",
              "      <th>197</th>\n",
              "      <td>198</td>\n",
              "      <td>177.0</td>\n",
              "      <td>9.3</td>\n",
              "      <td>6.4</td>\n",
              "      <td>12.8</td>\n",
              "    </tr>\n",
              "    <tr>\n",
              "      <th>198</th>\n",
              "      <td>199</td>\n",
              "      <td>283.6</td>\n",
              "      <td>42.0</td>\n",
              "      <td>66.2</td>\n",
              "      <td>25.5</td>\n",
              "    </tr>\n",
              "    <tr>\n",
              "      <th>199</th>\n",
              "      <td>200</td>\n",
              "      <td>232.1</td>\n",
              "      <td>8.6</td>\n",
              "      <td>8.7</td>\n",
              "      <td>13.4</td>\n",
              "    </tr>\n",
              "  </tbody>\n",
              "</table>\n",
              "</div>"
            ],
            "text/plain": [
              "     Unnamed: 0     TV  radio  newspaper  sales\n",
              "195         196   38.2    3.7       13.8    7.6\n",
              "196         197   94.2    4.9        8.1    9.7\n",
              "197         198  177.0    9.3        6.4   12.8\n",
              "198         199  283.6   42.0       66.2   25.5\n",
              "199         200  232.1    8.6        8.7   13.4"
            ]
          },
          "metadata": {
            "tags": []
          },
          "execution_count": 4
        }
      ]
    },
    {
      "cell_type": "markdown",
      "metadata": {
        "id": "QtYjEI7q2KO3"
      },
      "source": [
        "The last 5 rows"
      ]
    },
    {
      "cell_type": "code",
      "metadata": {
        "colab": {
          "base_uri": "https://localhost:8080/",
          "height": 297
        },
        "id": "7gVwNO0MtJFE",
        "outputId": "95bba737-8dda-4f15-f4db-0f3bd29e257e"
      },
      "source": [
        "df.describe()"
      ],
      "execution_count": 5,
      "outputs": [
        {
          "output_type": "execute_result",
          "data": {
            "text/html": [
              "<div>\n",
              "<style scoped>\n",
              "    .dataframe tbody tr th:only-of-type {\n",
              "        vertical-align: middle;\n",
              "    }\n",
              "\n",
              "    .dataframe tbody tr th {\n",
              "        vertical-align: top;\n",
              "    }\n",
              "\n",
              "    .dataframe thead th {\n",
              "        text-align: right;\n",
              "    }\n",
              "</style>\n",
              "<table border=\"1\" class=\"dataframe\">\n",
              "  <thead>\n",
              "    <tr style=\"text-align: right;\">\n",
              "      <th></th>\n",
              "      <th>Unnamed: 0</th>\n",
              "      <th>TV</th>\n",
              "      <th>radio</th>\n",
              "      <th>newspaper</th>\n",
              "      <th>sales</th>\n",
              "    </tr>\n",
              "  </thead>\n",
              "  <tbody>\n",
              "    <tr>\n",
              "      <th>count</th>\n",
              "      <td>200.000000</td>\n",
              "      <td>200.000000</td>\n",
              "      <td>200.000000</td>\n",
              "      <td>200.000000</td>\n",
              "      <td>200.000000</td>\n",
              "    </tr>\n",
              "    <tr>\n",
              "      <th>mean</th>\n",
              "      <td>100.500000</td>\n",
              "      <td>147.042500</td>\n",
              "      <td>23.264000</td>\n",
              "      <td>30.554000</td>\n",
              "      <td>14.022500</td>\n",
              "    </tr>\n",
              "    <tr>\n",
              "      <th>std</th>\n",
              "      <td>57.879185</td>\n",
              "      <td>85.854236</td>\n",
              "      <td>14.846809</td>\n",
              "      <td>21.778621</td>\n",
              "      <td>5.217457</td>\n",
              "    </tr>\n",
              "    <tr>\n",
              "      <th>min</th>\n",
              "      <td>1.000000</td>\n",
              "      <td>0.700000</td>\n",
              "      <td>0.000000</td>\n",
              "      <td>0.300000</td>\n",
              "      <td>1.600000</td>\n",
              "    </tr>\n",
              "    <tr>\n",
              "      <th>25%</th>\n",
              "      <td>50.750000</td>\n",
              "      <td>74.375000</td>\n",
              "      <td>9.975000</td>\n",
              "      <td>12.750000</td>\n",
              "      <td>10.375000</td>\n",
              "    </tr>\n",
              "    <tr>\n",
              "      <th>50%</th>\n",
              "      <td>100.500000</td>\n",
              "      <td>149.750000</td>\n",
              "      <td>22.900000</td>\n",
              "      <td>25.750000</td>\n",
              "      <td>12.900000</td>\n",
              "    </tr>\n",
              "    <tr>\n",
              "      <th>75%</th>\n",
              "      <td>150.250000</td>\n",
              "      <td>218.825000</td>\n",
              "      <td>36.525000</td>\n",
              "      <td>45.100000</td>\n",
              "      <td>17.400000</td>\n",
              "    </tr>\n",
              "    <tr>\n",
              "      <th>max</th>\n",
              "      <td>200.000000</td>\n",
              "      <td>296.400000</td>\n",
              "      <td>49.600000</td>\n",
              "      <td>114.000000</td>\n",
              "      <td>27.000000</td>\n",
              "    </tr>\n",
              "  </tbody>\n",
              "</table>\n",
              "</div>"
            ],
            "text/plain": [
              "       Unnamed: 0          TV       radio   newspaper       sales\n",
              "count  200.000000  200.000000  200.000000  200.000000  200.000000\n",
              "mean   100.500000  147.042500   23.264000   30.554000   14.022500\n",
              "std     57.879185   85.854236   14.846809   21.778621    5.217457\n",
              "min      1.000000    0.700000    0.000000    0.300000    1.600000\n",
              "25%     50.750000   74.375000    9.975000   12.750000   10.375000\n",
              "50%    100.500000  149.750000   22.900000   25.750000   12.900000\n",
              "75%    150.250000  218.825000   36.525000   45.100000   17.400000\n",
              "max    200.000000  296.400000   49.600000  114.000000   27.000000"
            ]
          },
          "metadata": {
            "tags": []
          },
          "execution_count": 5
        }
      ]
    },
    {
      "cell_type": "markdown",
      "metadata": {
        "id": "cl-_gl6l2NiR"
      },
      "source": [
        "Statistical information of dataset"
      ]
    },
    {
      "cell_type": "code",
      "metadata": {
        "colab": {
          "base_uri": "https://localhost:8080/"
        },
        "id": "mD1JXf76tMNy",
        "outputId": "a705dd51-42f2-4e7e-ea0f-0ce988ffe987"
      },
      "source": [
        "df.shape"
      ],
      "execution_count": 6,
      "outputs": [
        {
          "output_type": "execute_result",
          "data": {
            "text/plain": [
              "(200, 5)"
            ]
          },
          "metadata": {
            "tags": []
          },
          "execution_count": 6
        }
      ]
    },
    {
      "cell_type": "markdown",
      "metadata": {
        "id": "2pwQ-ABJ2WCl"
      },
      "source": [
        "200 rows , 5 columns in data set"
      ]
    },
    {
      "cell_type": "code",
      "metadata": {
        "colab": {
          "base_uri": "https://localhost:8080/"
        },
        "id": "LOjsLUAwtQaP",
        "outputId": "235422ec-d7f4-4d6c-8140-179af02e0ffc"
      },
      "source": [
        "df.info()"
      ],
      "execution_count": 7,
      "outputs": [
        {
          "output_type": "stream",
          "text": [
            "<class 'pandas.core.frame.DataFrame'>\n",
            "RangeIndex: 200 entries, 0 to 199\n",
            "Data columns (total 5 columns):\n",
            " #   Column      Non-Null Count  Dtype  \n",
            "---  ------      --------------  -----  \n",
            " 0   Unnamed: 0  200 non-null    int64  \n",
            " 1   TV          200 non-null    float64\n",
            " 2   radio       200 non-null    float64\n",
            " 3   newspaper   200 non-null    float64\n",
            " 4   sales       200 non-null    float64\n",
            "dtypes: float64(4), int64(1)\n",
            "memory usage: 7.9 KB\n"
          ],
          "name": "stdout"
        }
      ]
    },
    {
      "cell_type": "code",
      "metadata": {
        "colab": {
          "base_uri": "https://localhost:8080/"
        },
        "id": "6borMFy-tSxh",
        "outputId": "d6c7b619-acaa-4066-89b5-857f181d3467"
      },
      "source": [
        "df.isnull().sum()"
      ],
      "execution_count": 8,
      "outputs": [
        {
          "output_type": "execute_result",
          "data": {
            "text/plain": [
              "Unnamed: 0    0\n",
              "TV            0\n",
              "radio         0\n",
              "newspaper     0\n",
              "sales         0\n",
              "dtype: int64"
            ]
          },
          "metadata": {
            "tags": []
          },
          "execution_count": 8
        }
      ]
    },
    {
      "cell_type": "markdown",
      "metadata": {
        "id": "URH1tZFB2c29"
      },
      "source": [
        "There is no null values presnt in data set"
      ]
    },
    {
      "cell_type": "code",
      "metadata": {
        "colab": {
          "base_uri": "https://localhost:8080/",
          "height": 381
        },
        "id": "UXswgaqetXkH",
        "outputId": "5301f9d4-70ab-4124-ada1-c984ee6c04ee"
      },
      "source": [
        "fig, ax = plt.subplots(ncols=5, nrows=1, figsize=(5,5))\n",
        "index = 0\n",
        "ax = ax.flatten()\n",
        "\n",
        "for col, value in df.items():\n",
        "        sns.boxplot(y=col, data=df, ax=ax[index])\n",
        "        index += 1\n",
        "plt.tight_layout(pad=0.5, w_pad=0.7, h_pad=5.0)"
      ],
      "execution_count": 10,
      "outputs": [
        {
          "output_type": "display_data",
          "data": {
            "image/png": "[encoded data removed]",
            "text/plain": [
              "<Figure size 360x360 with 5 Axes>"
            ]
          },
          "metadata": {
            "tags": [],
            "needs_background": "light"
          }
        }
      ]
    },
    {
      "cell_type": "markdown",
      "metadata": {
        "id": "vo7WKLpq2rjJ"
      },
      "source": [
        "There is outliers in the newspaper by Removing the outliers we can improve the model accuracy"
      ]
    },
    {
      "cell_type": "code",
      "metadata": {
        "colab": {
          "base_uri": "https://localhost:8080/",
          "height": 401
        },
        "id": "bNEeEmMKtzoW",
        "outputId": "76abe244-1b7b-4d0b-8c59-5b9652edcf92"
      },
      "source": [
        "fig, ax = plt.subplots(ncols=5, nrows=1, figsize=(20,5))\n",
        "index = 0\n",
        "ax = ax.flatten()\n",
        "\n",
        "for col, value in df.items():\n",
        "        sns.distplot(value, ax=ax[index])\n",
        "        index += 1\n",
        "plt.tight_layout(pad=0.5, w_pad=0.7, h_pad=5.0)"
      ],
      "execution_count": 15,
      "outputs": [
        {
          "output_type": "display_data",
          "data": {
            "image/png": "[encoded data removed]",
            "text/plain": [
              "<Figure size 1440x360 with 5 Axes>"
            ]
          },
          "metadata": {
            "tags": [],
            "needs_background": "light"
          }
        }
      ]
    },
    {
      "cell_type": "markdown",
      "metadata": {
        "id": "8OWQ2FMU24hf"
      },
      "source": [
        "Here we observe all the values are appox to noramal distribution or Bell shape curve "
      ]
    },
    {
      "cell_type": "code",
      "metadata": {
        "id": "KrQ0pSFduD5o"
      },
      "source": [
        "df['newspaper'] = np.log(1 + df['newspaper'])"
      ],
      "execution_count": 16,
      "outputs": []
    },
    {
      "cell_type": "code",
      "metadata": {
        "colab": {
          "base_uri": "https://localhost:8080/",
          "height": 296
        },
        "id": "p-aMISdTupeY",
        "outputId": "1786ec05-af5a-4e7b-f9fa-1dff2fa73cf1"
      },
      "source": [
        "sns.distplot(df['newspaper'])"
      ],
      "execution_count": 17,
      "outputs": [
        {
          "output_type": "execute_result",
          "data": {
            "text/plain": [
              "<matplotlib.axes._subplots.AxesSubplot at 0x7f593334f650>"
            ]
          },
          "metadata": {
            "tags": []
          },
          "execution_count": 17
        },
        {
          "output_type": "display_data",
          "data": {
            "image/png": "[encoded data removed]",
            "text/plain": [
              "<Figure size 432x288 with 1 Axes>"
            ]
          },
          "metadata": {
            "tags": [],
            "needs_background": "light"
          }
        }
      ]
    },
    {
      "cell_type": "markdown",
      "metadata": {
        "id": "WjZb5Lgt3Ipj"
      },
      "source": [
        "By using log operation we can make it as normal distributed bell shape curve"
      ]
    },
    {
      "cell_type": "code",
      "metadata": {
        "colab": {
          "base_uri": "https://localhost:8080/",
          "height": 296
        },
        "id": "3qTz1vVHuwr3",
        "outputId": "adcaed74-b514-4746-b18a-4ba039d1698d"
      },
      "source": [
        "sns.countplot(df['sales'])"
      ],
      "execution_count": 18,
      "outputs": [
        {
          "output_type": "execute_result",
          "data": {
            "text/plain": [
              "<matplotlib.axes._subplots.AxesSubplot at 0x7f59332dd650>"
            ]
          },
          "metadata": {
            "tags": []
          },
          "execution_count": 18
        },
        {
          "output_type": "display_data",
          "data": {
            "image/png": "[encoded data removed]",
            "text/plain": [
              "<Figure size 432x288 with 1 Axes>"
            ]
          },
          "metadata": {
            "tags": [],
            "needs_background": "light"
          }
        }
      ]
    },
    {
      "cell_type": "markdown",
      "metadata": {
        "id": "FkMtzAng3TpO"
      },
      "source": [
        "\n",
        "By using count plot we got the sales of tv,radio,newspaper Different range of values and its called as class imbalancement"
      ]
    },
    {
      "cell_type": "code",
      "metadata": {
        "colab": {
          "base_uri": "https://localhost:8080/",
          "height": 279
        },
        "id": "XogG07zuu72d",
        "outputId": "982d3c20-5b5f-4721-f547-1d6b8fb63303"
      },
      "source": [
        "sns.boxplot(df['sales'])\n",
        "plt.show()"
      ],
      "execution_count": 21,
      "outputs": [
        {
          "output_type": "display_data",
          "data": {
            "image/png": "[encoded data removed]",
            "text/plain": [
              "<Figure size 432x288 with 1 Axes>"
            ]
          },
          "metadata": {
            "tags": [],
            "needs_background": "light"
          }
        }
      ]
    },
    {
      "cell_type": "code",
      "metadata": {
        "colab": {
          "base_uri": "https://localhost:8080/",
          "height": 303
        },
        "id": "AsZ0JVNMvDZC",
        "outputId": "865799a4-32c2-4c4a-8b25-52fc4b205fee"
      },
      "source": [
        "sns.pairplot(df, x_vars=['TV', 'newspaper', 'radio'], y_vars='sales', height=4, aspect=1, kind='scatter')\n",
        "plt.show()"
      ],
      "execution_count": 24,
      "outputs": [
        {
          "output_type": "display_data",
          "data": {
            "image/png": "[encoded data removed]",
            "text/plain": [
              "<Figure size 864x288 with 3 Axes>"
            ]
          },
          "metadata": {
            "tags": [],
            "needs_background": "light"
          }
        }
      ]
    },
    {
      "cell_type": "markdown",
      "metadata": {
        "id": "Clbu78Mh4Oc_"
      },
      "source": [
        "We can observe spreading of Datas in radio,tv,newspaper"
      ]
    },
    {
      "cell_type": "code",
      "metadata": {
        "colab": {
          "base_uri": "https://localhost:8080/",
          "height": 269
        },
        "id": "bYStha9YvQjf",
        "outputId": "56c65459-46ed-47fb-da7e-40e6e64cfbdc"
      },
      "source": [
        "sns.heatmap(df.corr(), cmap=\"YlGnBu\", annot = True)\n",
        "plt.show()"
      ],
      "execution_count": 25,
      "outputs": [
        {
          "output_type": "display_data",
          "data": {
            "image/png": "[encoded data removed]",
            "text/plain": [
              "<Figure size 432x288 with 2 Axes>"
            ]
          },
          "metadata": {
            "tags": [],
            "needs_background": "light"
          }
        }
      ]
    },
    {
      "cell_type": "markdown",
      "metadata": {
        "id": "tAvbEM8P4dZj"
      },
      "source": [
        "As is visible from the pairplot and the heatmap, the variable TV seems to be most correlated with Sales"
      ]
    },
    {
      "cell_type": "code",
      "metadata": {
        "colab": {
          "base_uri": "https://localhost:8080/"
        },
        "id": "K-9yKj6FwVa4",
        "outputId": "6d4e6a94-5eb4-4f96-86ad-f4cb62a2c030"
      },
      "source": [
        "from scipy.stats import zscore\n",
        "z_score=abs(zscore(df))\n",
        "print(df.shape)\n",
        "df1=df.loc[(z_score<3).all(axis=1)]\n",
        "print(df1.shape)"
      ],
      "execution_count": 27,
      "outputs": [
        {
          "output_type": "stream",
          "text": [
            "(200, 5)\n",
            "(199, 5)\n"
          ],
          "name": "stdout"
        }
      ]
    },
    {
      "cell_type": "markdown",
      "metadata": {
        "id": "dpROH0wf45TC"
      },
      "source": [
        "By using z_score we can remove some of unwanted datas"
      ]
    },
    {
      "cell_type": "code",
      "metadata": {
        "colab": {
          "base_uri": "https://localhost:8080/"
        },
        "id": "IAq6tcJjwfKP",
        "outputId": "df6cfd1a-e8ce-47ec-ec61-d6e1dde21eb6"
      },
      "source": [
        "df1.skew()"
      ],
      "execution_count": 28,
      "outputs": [
        {
          "output_type": "execute_result",
          "data": {
            "text/plain": [
              "Unnamed: 0   -0.009754\n",
              "TV           -0.063150\n",
              "radio         0.090691\n",
              "newspaper    -0.717354\n",
              "sales         0.416327\n",
              "dtype: float64"
            ]
          },
          "metadata": {
            "tags": []
          },
          "execution_count": 28
        }
      ]
    },
    {
      "cell_type": "code",
      "metadata": {
        "id": "0Ne1d0cnvcUD"
      },
      "source": [
        "x = df.drop(columns=['sales'])\n",
        "y = df['sales']"
      ],
      "execution_count": 29,
      "outputs": []
    },
    {
      "cell_type": "code",
      "metadata": {
        "colab": {
          "base_uri": "https://localhost:8080/"
        },
        "id": "_HuXOx_syZxk",
        "outputId": "bae0a346-259c-4288-ed58-ddf5ce5d31e4"
      },
      "source": [
        "from sklearn.model_selection import train_test_split,cross_val_score\n",
        "x_train,x_test,y_train,y_test=train_test_split(x,y,test_size=0.2,random_state=20)\n",
        "print(x_train.shape,x_test.shape)\n",
        "print(y_train.shape,y_test.shape)"
      ],
      "execution_count": 39,
      "outputs": [
        {
          "output_type": "stream",
          "text": [
            "(160, 4) (40, 4)\n",
            "(160,) (40,)\n"
          ],
          "name": "stdout"
        }
      ]
    },
    {
      "cell_type": "code",
      "metadata": {
        "id": "lRugsCcXydLr"
      },
      "source": [
        "from sklearn.metrics import mean_absolute_error\n",
        "from sklearn.metrics import mean_squared_error\n",
        "from sklearn.metrics import r2_score\n",
        "from sklearn.model_selection import train_test_split\n",
        "def maxr2_score(regr,x,y):\n",
        "    max_r_score=0\n",
        "    for r_state in range(40,101):\n",
        "        x_train,x_test,y_train,y_test=train_test_split(x,y,random_state=r_state,test_size=0.30)\n",
        "        regr.fit(x_train,y_train)\n",
        "        y_pred=regr.predict(x_test)\n",
        "        r2_scr=r2_score(y_test,y_pred)\n",
        "        print(\"r2 score corrospoding to \",r_state,\"is\",r2_scr)\n",
        "        if r2_scr>max_r_score:\n",
        "            max_r_score=r2_scr\n",
        "            final_r_state=r_state\n",
        "    print(\"max r2 score to \",final_r_state,\"is\",max_r_score)\n",
        "    return final_r_state"
      ],
      "execution_count": 40,
      "outputs": []
    },
    {
      "cell_type": "code",
      "metadata": {
        "colab": {
          "base_uri": "https://localhost:8080/"
        },
        "id": "RiIQ107EyiCV",
        "outputId": "1ba970a9-a5ca-43dc-a840-d64c2fc0a5e4"
      },
      "source": [
        "from sklearn.linear_model import LinearRegression\n",
        "lreg=LinearRegression()\n",
        "r_state=maxr2_score(lreg,x,y)"
      ],
      "execution_count": 41,
      "outputs": [
        {
          "output_type": "stream",
          "text": [
            "r2 score corrospoding to  40 is 0.8363980609063593\n",
            "r2 score corrospoding to  41 is 0.8880650509758434\n",
            "r2 score corrospoding to  42 is 0.8638088860787706\n",
            "r2 score corrospoding to  43 is 0.9223661362245855\n",
            "r2 score corrospoding to  44 is 0.8715037524989089\n",
            "r2 score corrospoding to  45 is 0.9013757065638031\n",
            "r2 score corrospoding to  46 is 0.8360931008927331\n",
            "r2 score corrospoding to  47 is 0.81980998018794\n",
            "r2 score corrospoding to  48 is 0.927163943341832\n",
            "r2 score corrospoding to  49 is 0.8237790034935308\n",
            "r2 score corrospoding to  50 is 0.8561277264293324\n",
            "r2 score corrospoding to  51 is 0.8616029893452262\n",
            "r2 score corrospoding to  52 is 0.8884783841891378\n",
            "r2 score corrospoding to  53 is 0.9084602509208546\n",
            "r2 score corrospoding to  54 is 0.9196116070785125\n",
            "r2 score corrospoding to  55 is 0.9123925513820932\n",
            "r2 score corrospoding to  56 is 0.9068960463738338\n",
            "r2 score corrospoding to  57 is 0.9287444014507893\n",
            "r2 score corrospoding to  58 is 0.8478158275170704\n",
            "r2 score corrospoding to  59 is 0.9244694259838994\n",
            "r2 score corrospoding to  60 is 0.9144398180483486\n",
            "r2 score corrospoding to  61 is 0.9137001752924099\n",
            "r2 score corrospoding to  62 is 0.8600009033576844\n",
            "r2 score corrospoding to  63 is 0.8662253170553385\n",
            "r2 score corrospoding to  64 is 0.8674618602730861\n",
            "r2 score corrospoding to  65 is 0.9061517443442832\n",
            "r2 score corrospoding to  66 is 0.8817889822980006\n",
            "r2 score corrospoding to  67 is 0.848402439949853\n",
            "r2 score corrospoding to  68 is 0.894326016491937\n",
            "r2 score corrospoding to  69 is 0.9262736661601216\n",
            "r2 score corrospoding to  70 is 0.9173306749514997\n",
            "r2 score corrospoding to  71 is 0.8060845674938264\n",
            "r2 score corrospoding to  72 is 0.914846394581616\n",
            "r2 score corrospoding to  73 is 0.869097134530575\n",
            "r2 score corrospoding to  74 is 0.8763853616106202\n",
            "r2 score corrospoding to  75 is 0.8995457491141897\n",
            "r2 score corrospoding to  76 is 0.826935013517122\n",
            "r2 score corrospoding to  77 is 0.9033047558568764\n",
            "r2 score corrospoding to  78 is 0.9118152575060628\n",
            "r2 score corrospoding to  79 is 0.9068958210844336\n",
            "r2 score corrospoding to  80 is 0.8582565553673837\n",
            "r2 score corrospoding to  81 is 0.8922112811235443\n",
            "r2 score corrospoding to  82 is 0.8459277819386511\n",
            "r2 score corrospoding to  83 is 0.9087918311591161\n",
            "r2 score corrospoding to  84 is 0.9162322555602207\n",
            "r2 score corrospoding to  85 is 0.8466251560975997\n",
            "r2 score corrospoding to  86 is 0.8666777320481025\n",
            "r2 score corrospoding to  87 is 0.8305506321621536\n",
            "r2 score corrospoding to  88 is 0.8687492142284738\n",
            "r2 score corrospoding to  89 is 0.8928808190442803\n",
            "r2 score corrospoding to  90 is 0.8807180440351121\n",
            "r2 score corrospoding to  91 is 0.9023217666201698\n",
            "r2 score corrospoding to  92 is 0.9032526872357483\n",
            "r2 score corrospoding to  93 is 0.8949859568385645\n",
            "r2 score corrospoding to  94 is 0.8943701369614069\n",
            "r2 score corrospoding to  95 is 0.8984972500482324\n",
            "r2 score corrospoding to  96 is 0.8796147186894024\n",
            "r2 score corrospoding to  97 is 0.8922107493208318\n",
            "r2 score corrospoding to  98 is 0.9192093705174638\n",
            "r2 score corrospoding to  99 is 0.9112966248043363\n",
            "r2 score corrospoding to  100 is 0.9026222170770749\n",
            "max r2 score to  57 is 0.9287444014507893\n"
          ],
          "name": "stdout"
        }
      ]
    },
    {
      "cell_type": "markdown",
      "metadata": {
        "id": "64srGqtx5MR8"
      },
      "source": [
        "maxmium r2 score to 57 is 0.92"
      ]
    },
    {
      "cell_type": "code",
      "metadata": {
        "colab": {
          "base_uri": "https://localhost:8080/"
        },
        "id": "rd4DYwalylq8",
        "outputId": "d89e7659-f7a8-4d7e-caf5-807fddb67bcc"
      },
      "source": [
        "from sklearn.model_selection import cross_val_score\n",
        "from sklearn.linear_model import LinearRegression\n",
        "cross_val_score(LinearRegression(),x,y,cv=5,scoring='neg_mean_absolute_error').mean()"
      ],
      "execution_count": 42,
      "outputs": [
        {
          "output_type": "execute_result",
          "data": {
            "text/plain": [
              "-1.3065615598027207"
            ]
          },
          "metadata": {
            "tags": []
          },
          "execution_count": 42
        }
      ]
    },
    {
      "cell_type": "code",
      "metadata": {
        "id": "oGMkUdCayt6e"
      },
      "source": [
        "x_train,x_test,y_train,y_test=train_test_split(x,y,random_state =62,test_size=0.33)\n",
        "lreg=LinearRegression()\n",
        "lreg.fit(x_train,y_train)\n",
        "y_pred=lreg.predict(x_test)"
      ],
      "execution_count": 43,
      "outputs": []
    },
    {
      "cell_type": "code",
      "metadata": {
        "colab": {
          "base_uri": "https://localhost:8080/"
        },
        "id": "_Mk8DKafyw6J",
        "outputId": "492a0aa0-66e0-4534-c24b-d98bc5c5b6eb"
      },
      "source": [
        "from sklearn.metrics import r2_score\n",
        "from sklearn.metrics import mean_squared_error\n",
        "print(\"r2 score is :\",r2_score(y_test,y_pred))\n",
        "print('RMSE is :',np.sqrt(mean_squared_error(y_test,y_pred)))"
      ],
      "execution_count": 44,
      "outputs": [
        {
          "output_type": "stream",
          "text": [
            "r2 score is : 0.8659032287351155\n",
            "RMSE is : 1.9098096953335368\n"
          ],
          "name": "stdout"
        }
      ]
    },
    {
      "cell_type": "code",
      "metadata": {
        "id": "TzA-d-TNzid9"
      },
      "source": [
        "import pickle"
      ],
      "execution_count": 50,
      "outputs": []
    },
    {
      "cell_type": "code",
      "metadata": {
        "colab": {
          "base_uri": "https://localhost:8080/"
        },
        "id": "FROMUbOMzxPT",
        "outputId": "eb8557e5-419d-4ec6-decb-9caaf12065b7"
      },
      "source": [
        "project2_model = pickle.dumps(lreg) \n",
        "lreg_from_pickle = pickle.loads(project2_model) \n",
        "lreg_from_pickle.predict(x_test)"
      ],
      "execution_count": 51,
      "outputs": [
        {
          "output_type": "execute_result",
          "data": {
            "text/plain": [
              "array([14.41921554,  9.00758608, 14.99349331, 14.29926255, 17.13629021,\n",
              "       14.87793238, 18.04636504, 22.98175001, 15.76519508, 14.81067979,\n",
              "        4.30760584, 12.80886706, 16.30205241,  7.45653916, 18.29744202,\n",
              "       21.74720853, 10.93444786, 15.86705341, 23.3823839 , 13.08767905,\n",
              "       15.32325235,  8.77166973, 12.03065162, 11.97142158, 24.8756982 ,\n",
              "        6.40212069, 14.95914488,  9.96925672, 13.64786052, 21.13605734,\n",
              "       10.52928391, 17.00078189, 16.45220687,  5.16295383, 16.36544076,\n",
              "       16.89226067, 16.15356214, 19.88968002, 19.6525293 , 18.16896848,\n",
              "       11.59293945, 13.18311615,  4.34964982,  6.34167769, 16.2417763 ,\n",
              "        9.11506323, 23.32213461, 10.53619611, 19.20059754, 17.21285012,\n",
              "       13.67086656, 12.30118583, 20.74799692,  7.61795817,  8.94785106,\n",
              "        7.91918559, 14.11067848, 17.78077071,  5.56479419, 16.61943846,\n",
              "        6.89170033, 10.8786805 ,  8.96514041, 15.34416364, 15.55639779,\n",
              "       20.48144515])"
            ]
          },
          "metadata": {
            "tags": []
          },
          "execution_count": 51
        }
      ]
    },
    {
      "cell_type": "code",
      "metadata": {
        "id": "bbL1YWsQzx8r"
      },
      "source": [
        ""
      ],
      "execution_count": null,
      "outputs": []
    }
  ]
}